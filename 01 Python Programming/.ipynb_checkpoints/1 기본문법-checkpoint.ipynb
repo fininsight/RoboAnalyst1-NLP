{
 "cells": [
  {
   "cell_type": "markdown",
   "metadata": {},
   "source": [
    "## 세미콜론(;)\n",
    "\n",
    "* 파이썬은 구문이 끝날 때 세미콜론(;)을 붙이지 않음\n",
    "* 한 줄에 여러 구문을 쓸때 세미콜론을 사용\n",
    "* 한 줄에는 하나의 구문만 쓰기를 권장"
   ]
  },
  {
   "cell_type": "code",
   "execution_count": 6,
   "metadata": {},
   "outputs": [
    {
     "name": "stdout",
     "output_type": "stream",
     "text": [
      "Hello, World!\n"
     ]
    }
   ],
   "source": [
    "# 세미콜론 예시\n",
    "print('Hello, World!')"
   ]
  },
  {
   "cell_type": "markdown",
   "metadata": {},
   "source": [
    "## 주석\n",
    "* 사람만 알아볼 수 있도록 작성하는 부분\n",
    "* 파이썬 인터프리터가 처리하지 않아 실행에 영향을 주지 않음\n",
    "* \"#\" 문자를 사용해서 주석을 표기"
   ]
  },
  {
   "cell_type": "code",
   "execution_count": 7,
   "metadata": {},
   "outputs": [
    {
     "name": "stdout",
     "output_type": "stream",
     "text": [
      "Hello, World!\n"
     ]
    }
   ],
   "source": [
    "# 주석\n",
    "print('Hello, World!') "
   ]
  },
  {
   "cell_type": "markdown",
   "metadata": {},
   "source": [
    "## 들여쓰기\n",
    "\n",
    "* 코드를 읽기 쉽도록 일정한 간격을 띄워서 작성하는 방법\n",
    "* 파이썬은 들여쓰기 자체가 문법\n",
    "* 파이썬의 코딩 컨벤션(코드를 작성할 때 기준)에 따라 스페이스 4칸을 권장"
   ]
  },
  {
   "cell_type": "code",
   "execution_count": null,
   "metadata": {},
   "outputs": [],
   "source": [
    "# 들여쓰기 에러 예시\n",
    "a = 10\n",
    "if a == 10:\n",
    "print('10입니다.')    # 들여쓰기 문법 에러"
   ]
  },
  {
   "cell_type": "code",
   "execution_count": null,
   "metadata": {},
   "outputs": [],
   "source": [
    "# 들여쓰기 예시\n",
    "a = 10\n",
    "if a == 10:\n",
    "    print('10입니다')\t# 올바른 들여쓰기"
   ]
  },
  {
   "cell_type": "markdown",
   "metadata": {},
   "source": [
    "## 코드블록\n",
    "* 특정 동장을 위해서 코드가 모여있는 상태\n",
    "* 동일 블록은 들여쓰기가 같아야함"
   ]
  },
  {
   "cell_type": "code",
   "execution_count": null,
   "metadata": {},
   "outputs": [],
   "source": [
    "# 블록 예시\n",
    "if a == 10:\n",
    "    print('10')\n",
    "    print('입니다')"
   ]
  },
  {
   "cell_type": "markdown",
   "metadata": {},
   "source": [
    "## 데이터 타입\n",
    "자료형 | 설명\n",
    "- | -\n",
    "정수형(int) | 소수점이 없는 양수, 음수, 0로 이루어진 데이터 타입\n",
    "실수형(float) | 소수점을 포함하는 숫자를 나타내는 데이터 타입\n",
    "불형(bool) | True(참) 혹은 False(거짓)인 데이터 타입\n",
    "문자열(str) | 작은따옴표( ' ' )나 큰 따옴표( \" \" )로 둘러싸여 있으면 문자열 데이터 타입"
   ]
  },
  {
   "cell_type": "code",
   "execution_count": null,
   "metadata": {},
   "outputs": [],
   "source": [
    "type(3)    # 결과 : int"
   ]
  },
  {
   "cell_type": "code",
   "execution_count": null,
   "metadata": {},
   "outputs": [],
   "source": [
    "type(3.3)    # 결과 : float"
   ]
  },
  {
   "cell_type": "code",
   "execution_count": null,
   "metadata": {},
   "outputs": [],
   "source": [
    "type(True)    # 결과 : bool"
   ]
  },
  {
   "cell_type": "code",
   "execution_count": null,
   "metadata": {},
   "outputs": [],
   "source": [
    "type(\"3\")    # 결과 : str"
   ]
  }
 ],
 "metadata": {
  "kernelspec": {
   "display_name": "Python 3",
   "language": "python",
   "name": "python3"
  },
  "language_info": {
   "codemirror_mode": {
    "name": "ipython",
    "version": 3
   },
   "file_extension": ".py",
   "mimetype": "text/x-python",
   "name": "python",
   "nbconvert_exporter": "python",
   "pygments_lexer": "ipython3",
   "version": "3.6.5"
  }
 },
 "nbformat": 4,
 "nbformat_minor": 2
}
