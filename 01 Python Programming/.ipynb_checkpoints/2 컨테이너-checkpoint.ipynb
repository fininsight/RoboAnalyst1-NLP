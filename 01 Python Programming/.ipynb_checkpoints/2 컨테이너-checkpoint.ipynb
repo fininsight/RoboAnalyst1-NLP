{
 "cells": [
  {
   "cell_type": "markdown",
   "metadata": {},
   "source": [
    "# 컨테이너\n",
    "* 변수에 값을 한 개씩 저장하지 않고 여러 개를 저장하기 위해 컨테이너를 사용\n",
    "* 컨테이너 종류는 리스트와 튜플이 있음\n",
    "------------"
   ]
  },
  {
   "cell_type": "markdown",
   "metadata": {},
   "source": [
    "## 리스트\n",
    "* 변수에 복수의 값을 저장할 때 사용\n",
    "* 변수에 값을 저장할 때 대괄호( [ ] )로 묶어주면 리스트가 되고, 리스트의 요소는 콤마( , )로 구분"
   ]
  },
  {
   "cell_type": "code",
   "execution_count": 3,
   "metadata": {},
   "outputs": [
    {
     "name": "stdout",
     "output_type": "stream",
     "text": [
      "[10, 20, 30, 40, 50]\n"
     ]
    }
   ],
   "source": [
    "# 리스트 예시\n",
    "a = [10,20,30,40,50]\n",
    "print(a)"
   ]
  },
  {
   "cell_type": "code",
   "execution_count": 5,
   "metadata": {},
   "outputs": [
    {
     "name": "stdout",
     "output_type": "stream",
     "text": [
      "['sally', 23, 165, [90, 80, 100], True]\n"
     ]
    }
   ],
   "source": [
    "# 다양한 자료형을 담을 수 있는 리스트\n",
    "person = ['sally', 23, 165, [90,80,100], True]\n",
    "print(person)"
   ]
  },
  {
   "cell_type": "markdown",
   "metadata": {},
   "source": [
    "### range를 사용 리스트 생성 방법"
   ]
  },
  {
   "cell_type": "code",
   "execution_count": 7,
   "metadata": {},
   "outputs": [
    {
     "name": "stdout",
     "output_type": "stream",
     "text": [
      "[0, 1, 2, 3, 4, 5, 6, 7, 8, 9]\n"
     ]
    }
   ],
   "source": [
    "# 리스트 = list(range(횟수))\n",
    "# 0부터 \"횟수-1\"의 수까지 리스트 생성\n",
    "a = list(range(10)) \n",
    "print(a)"
   ]
  },
  {
   "cell_type": "code",
   "execution_count": 9,
   "metadata": {},
   "outputs": [
    {
     "name": "stdout",
     "output_type": "stream",
     "text": [
      "[5, 6, 7, 8, 9, 10, 11]\n"
     ]
    }
   ],
   "source": [
    "# 리스트 = list(range(시작, 끝))\n",
    "# 인자로 시작하는 숫자와 끝나는 숫자를 지정하여 리스트를 생성\n",
    "b = list(range(5,12))\n",
    "print(b)"
   ]
  },
  {
   "cell_type": "code",
   "execution_count": 10,
   "metadata": {},
   "outputs": [
    {
     "name": "stdout",
     "output_type": "stream",
     "text": [
      "[-4, -2, 0, 2, 4, 6, 8]\n"
     ]
    }
   ],
   "source": [
    "# 리스트 = list(range(시작, 끝, 증가폭))\n",
    "# 증가폭을 지정하면 해당 값만큼 증가하면서 리스트를 생성\n",
    "c = list(range(-4,10,2))\n",
    "print(c)"
   ]
  },
  {
   "cell_type": "markdown",
   "metadata": {},
   "source": [
    "## 튜플\n",
    "* 리스트처럼 요소들을 저장하지만, 안에 저장된 요소를 변경, 추가, 삭제 할 수 없음\n",
    "* 읽기 전용 리스트\n",
    "* 리스트와 다르게 괄호()로 묶으면 튜플이 됨"
   ]
  },
  {
   "cell_type": "code",
   "execution_count": 11,
   "metadata": {},
   "outputs": [
    {
     "name": "stdout",
     "output_type": "stream",
     "text": [
      "(5, 10, 15, 20)\n"
     ]
    }
   ],
   "source": [
    "# 괄호를 사용한 튜플 생성\n",
    "a = (5,10,15,20)\n",
    "print(a)"
   ]
  },
  {
   "cell_type": "code",
   "execution_count": 12,
   "metadata": {},
   "outputs": [
    {
     "name": "stdout",
     "output_type": "stream",
     "text": [
      "(1, 2, 3, 4, 5)\n"
     ]
    }
   ],
   "source": [
    "# 괄호를 사용하지 않는 튜플 생성. 괄호를 사용하지 않아도 튜플이 됨\n",
    "a = 1,2,3,4,5\n",
    "print(a)"
   ]
  },
  {
   "cell_type": "markdown",
   "metadata": {},
   "source": [
    "## 딕셔너리(Dictionary)\n",
    "* 리스트, 튜플은 일렬로 요소를 저장하지만 값 상호간의 연관관계는 없음\n",
    "* 딕셔너리는 값마다 이름을 붙여 키, 값 쌍으로 생성\n",
    "* 키는 문자열, 정수, 실수, 불 자료형이 가능. 리스트, 딕셔너리 불가능\n",
    "* 값에는 리스트와딕셔너리를 포함하여 모든 자료형이 가능\n",
    "\n",
    "*사전(dictionary)에서 단어를 찾듯 값을 얻을 수 있어 딕셔너리라고 부른다. 만약 키 이름이 중복되면 가장 뒤에 있는 값만 사용된다. 즉 중복되는 키는 저장되지 않는다.*"
   ]
  },
  {
   "cell_type": "code",
   "execution_count": 19,
   "metadata": {},
   "outputs": [
    {
     "name": "stdout",
     "output_type": "stream",
     "text": [
      "['sally', 23, 165, 'student']\n"
     ]
    }
   ],
   "source": [
    "# 값 상호가 연관이 없는 리스트 예시\n",
    "person = ['sally',23,165,'student']\n",
    "print(person)"
   ]
  },
  {
   "cell_type": "code",
   "execution_count": 17,
   "metadata": {},
   "outputs": [
    {
     "name": "stdout",
     "output_type": "stream",
     "text": [
      "{'name': 'sally', 'age': 23, 'height': 165, 'job': 'student'}\n"
     ]
    }
   ],
   "source": [
    "# 키, 값 쌍으로 딕셔너리 만들기\n",
    "# \"키 : 값\" 형식으로 저장. 값 쌍은 콤마( , )로 구분\n",
    "person = {\n",
    "    'name' : 'sally',\n",
    "    'age' : 23,\n",
    "    'height' : 165,\n",
    "    'job' : 'student'\n",
    "}\n",
    "print(person)"
   ]
  },
  {
   "cell_type": "code",
   "execution_count": 18,
   "metadata": {},
   "outputs": [
    {
     "name": "stdout",
     "output_type": "stream",
     "text": [
      "{'name': 'sally', 'age': 23, 'height': 165, 'job': 'student'}\n"
     ]
    }
   ],
   "source": [
    "# dict를 사용하여 딕셔너리 만들기\n",
    "# 키와 값을 연결하거나 리스트, 튜플, 딕셔너리로 딕셔너리를 만들 때 사용\n",
    "# 키에 ' '(작은 따옴표)나 \" \"(큰 따옴표)를 사용하면 안됨\n",
    "person = dict(name='sally', age=23 , height=165 , job='student')\n",
    "print(person)"
   ]
  },
  {
   "cell_type": "code",
   "execution_count": null,
   "metadata": {},
   "outputs": [],
   "source": []
  }
 ],
 "metadata": {
  "kernelspec": {
   "display_name": "Python 3",
   "language": "python",
   "name": "python3"
  },
  "language_info": {
   "codemirror_mode": {
    "name": "ipython",
    "version": 3
   },
   "file_extension": ".py",
   "mimetype": "text/x-python",
   "name": "python",
   "nbconvert_exporter": "python",
   "pygments_lexer": "ipython3",
   "version": "3.6.5"
  }
 },
 "nbformat": 4,
 "nbformat_minor": 2
}
