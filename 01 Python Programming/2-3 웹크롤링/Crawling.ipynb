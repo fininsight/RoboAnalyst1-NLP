{
 "cells": [
  {
   "cell_type": "code",
   "execution_count": 5,
   "metadata": {},
   "outputs": [],
   "source": [
    "# requests라이브러리 사용해보기\n",
    "import requests\n",
    "from bs4 import BeautifulSoup"
   ]
  },
  {
   "cell_type": "code",
   "execution_count": 7,
   "metadata": {},
   "outputs": [],
   "source": [
    "response = requests.get('https://naver.com')\n",
    "soup = BeautifulSoup(response.text,'html.parser')"
   ]
  },
  {
   "cell_type": "code",
   "execution_count": 8,
   "metadata": {},
   "outputs": [
    {
     "name": "stdout",
     "output_type": "stream",
     "text": [
      "수소차관련주\n",
      "가수 김학래\n",
      "베트남 16강\n",
      "오지혜\n",
      "연애의 맛\n",
      "일본 우즈베키스탄\n",
      "아시안컵 16강\n",
      "김학래\n",
      "너의 노래는\n",
      "이성미\n",
      "서영교\n",
      "순수의시대\n",
      "기무라타쿠야\n",
      "강한나\n",
      "외모지상주의\n",
      "손혜원\n",
      "인천순복음교회\n",
      "박항서\n",
      "핀란드 페트리 부인\n",
      "어서와 한국은 처음이지\n"
     ]
    }
   ],
   "source": [
    "keyword_list = soup.select('div[class=\"ah_roll_area PM_CL_realtimeKeyword_rolling\"] li span[class=\"ah_k\"]')\n",
    "\n",
    "for keyword in keyword_list:\n",
    "    print(keyword.text)"
   ]
  },
  {
   "cell_type": "code",
   "execution_count": 9,
   "metadata": {},
   "outputs": [
    {
     "name": "stdout",
     "output_type": "stream",
     "text": [
      "1 수소차관련주\n",
      "2 가수 김학래\n",
      "3 베트남 16강\n",
      "4 오지혜\n",
      "5 연애의 맛\n",
      "6 일본 우즈베키스탄\n",
      "7 아시안컵 16강\n",
      "8 김학래\n",
      "9 너의 노래는\n",
      "10 이성미\n",
      "11 서영교\n",
      "12 순수의시대\n",
      "13 기무라타쿠야\n",
      "14 강한나\n",
      "15 외모지상주의\n",
      "16 손혜원\n",
      "17 인천순복음교회\n",
      "18 박항서\n",
      "19 핀란드 페트리 부인\n",
      "20 어서와 한국은 처음이지\n"
     ]
    }
   ],
   "source": [
    "keyword_list = soup.select('div[class=\"ah_roll_area PM_CL_realtimeKeyword_rolling\"] li')\n",
    "\n",
    "for keyword in keyword_list:\n",
    "    rank = keyword.select('.ah_r')[0].text\n",
    "    title = keyword.select('.ah_k')[0].text\n",
    "    print(rank,title)"
   ]
  },
  {
   "cell_type": "code",
   "execution_count": 10,
   "metadata": {},
   "outputs": [
    {
     "name": "stdout",
     "output_type": "stream",
     "text": [
      "1 수소차관련주\n",
      "2 가수 김학래\n",
      "3 베트남 16강\n",
      "4 오지혜\n",
      "5 연애의 맛\n",
      "6 일본 우즈베키스탄\n",
      "7 아시안컵 16강\n",
      "8 김학래\n",
      "9 너의 노래는\n",
      "10 이성미\n",
      "11 서영교\n",
      "12 순수의시대\n",
      "13 기무라타쿠야\n",
      "14 강한나\n",
      "15 외모지상주의\n",
      "16 손혜원\n",
      "17 인천순복음교회\n",
      "18 박항서\n",
      "19 핀란드 페트리 부인\n",
      "20 어서와 한국은 처음이지\n"
     ]
    }
   ],
   "source": [
    "keyword_list = soup.select('div[class=\"ah_roll_area PM_CL_realtimeKeyword_rolling\"] li')\n",
    "\n",
    "for keyword in keyword_list:\n",
    "    rank = keyword.select('span[class=\"ah_r\"]')[0].text\n",
    "    title = keyword.select('span[class=\"ah_k\"]')[0].text\n",
    "    print(rank,title)"
   ]
  },
  {
   "cell_type": "code",
   "execution_count": null,
   "metadata": {},
   "outputs": [],
   "source": []
  },
  {
   "cell_type": "code",
   "execution_count": null,
   "metadata": {},
   "outputs": [],
   "source": []
  }
 ],
 "metadata": {
  "kernelspec": {
   "display_name": "Python 3",
   "language": "python",
   "name": "python3"
  },
  "language_info": {
   "codemirror_mode": {
    "name": "ipython",
    "version": 3
   },
   "file_extension": ".py",
   "mimetype": "text/x-python",
   "name": "python",
   "nbconvert_exporter": "python",
   "pygments_lexer": "ipython3",
   "version": "3.6.5"
  }
 },
 "nbformat": 4,
 "nbformat_minor": 2
}
