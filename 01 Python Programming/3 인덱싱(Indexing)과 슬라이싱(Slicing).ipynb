{
 "cells": [
  {
   "cell_type": "markdown",
   "metadata": {},
   "source": [
    "## 인덱싱(Indexing)과 슬라이싱(Slicing)"
   ]
  },
  {
   "cell_type": "markdown",
   "metadata": {},
   "source": [
    "### 인덱싱\n",
    "* 인덱싱은 가르킨다는 뜻\n",
    "* 리스트에서 위치를 지정하여 값을 조회\n",
    "* 앞서 다룬 리스트에 저장된 복수의 값들 중 위치(인덱스)를 지정하여 값을 조회하는 방법\n",
    "\n",
    "*문법 : 리스트변수[인덱스]*"
   ]
  },
  {
   "cell_type": "code",
   "execution_count": 1,
   "metadata": {},
   "outputs": [
    {
     "name": "stdout",
     "output_type": "stream",
     "text": [
      "전체 list :  [0, 1, 2, 3, 4, 5, 6, 7, 8, 9]\n",
      "인덱스가 5인 값 :  5\n"
     ]
    }
   ],
   "source": [
    "l = list(range(10)) # 0 ~ 9까지 값을 리스트로 생성\n",
    "print(\"전체 list : \", l)\n",
    "print(\"인덱스가 5인 값 : \", l[5])"
   ]
  },
  {
   "cell_type": "code",
   "execution_count": 2,
   "metadata": {},
   "outputs": [
    {
     "name": "stdout",
     "output_type": "stream",
     "text": [
      "전체 list :  [2, 3, 4, 5, 6, 7, 8, 9]\n",
      "인덱스가 5인 값 :  7\n"
     ]
    }
   ],
   "source": [
    "l = list(range(2, 10)) # 2 ~ 9까지 값을 리스트로 생성\n",
    "print(\"전체 list : \", l)\n",
    "print(\"인덱스가 5인 값 : \", l[5])"
   ]
  },
  {
   "cell_type": "markdown",
   "metadata": {},
   "source": [
    "### 슬라이싱\n",
    "* 슬라이싱은 잘라낸다는 뜻\n",
    "* 리스트 내에서 특정 구간의 값을 잘라냄\n",
    "\n",
    "*문법 : 리스트변수[시작인덱스:종료인덱스]*"
   ]
  },
  {
   "cell_type": "code",
   "execution_count": 3,
   "metadata": {},
   "outputs": [
    {
     "name": "stdout",
     "output_type": "stream",
     "text": [
      "앞의 5개 값 슬라이싱 :  [2, 3, 4, 5, 6]\n",
      "앞의 5개 값 슬라이싱 :  [2, 3, 4, 5, 6]\n"
     ]
    }
   ],
   "source": [
    "print(\"앞의 5개 값 슬라이싱 : \", l[:5])\n",
    "print(\"앞의 5개 값 슬라이싱 : \", l[0:5])"
   ]
  },
  {
   "cell_type": "code",
   "execution_count": 4,
   "metadata": {},
   "outputs": [
    {
     "name": "stdout",
     "output_type": "stream",
     "text": [
      "2번 인덱스부터 5번 인덱스까지 값 슬라이싱 :  [4, 5, 6]\n"
     ]
    }
   ],
   "source": [
    "print(\"2번 인덱스부터 5번 인덱스까지 값 슬라이싱 : \", l[2:5])"
   ]
  }
 ],
 "metadata": {
  "kernelspec": {
   "display_name": "Python 3",
   "language": "python",
   "name": "python3"
  },
  "language_info": {
   "codemirror_mode": {
    "name": "ipython",
    "version": 3
   },
   "file_extension": ".py",
   "mimetype": "text/x-python",
   "name": "python",
   "nbconvert_exporter": "python",
   "pygments_lexer": "ipython3",
   "version": "3.6.5"
  }
 },
 "nbformat": 4,
 "nbformat_minor": 2
}
