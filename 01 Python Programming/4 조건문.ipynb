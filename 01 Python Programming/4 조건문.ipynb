{
 "cells": [
  {
   "cell_type": "markdown",
   "metadata": {},
   "source": [
    "## 조건문"
   ]
  },
  {
   "cell_type": "markdown",
   "metadata": {},
   "source": [
    "* 조건문은 조건이 참(True) 때, 거짓(False)일 때를 구분하여 코드를 실행\n",
    "\n",
    "\n",
    "[문법]\n",
    "~~~\n",
    "if 조건 : \n",
    "    조건이 참일 경우 \n",
    "~~~"
   ]
  },
  {
   "cell_type": "code",
   "execution_count": 2,
   "metadata": {},
   "outputs": [],
   "source": [
    "x = 9\n",
    "if x == 10:\n",
    "    print(\"x는 10이다.\")\n",
    "    "
   ]
  },
  {
   "cell_type": "markdown",
   "metadata": {},
   "source": [
    "### 조건문 중첩"
   ]
  },
  {
   "cell_type": "markdown",
   "metadata": {},
   "source": [
    "[문법]\n",
    "~~~\n",
    "if 조건1 : \n",
    "    조건1이 참일 경우 \n",
    "    \n",
    "    if 조건2 : \n",
    "        조건1과 조건2이 모두 참인 경우 \n",
    "    if 조건3 : \n",
    "        조건1과 조건3이 모두 참인 경우 \n",
    "~~~"
   ]
  },
  {
   "cell_type": "code",
   "execution_count": 4,
   "metadata": {},
   "outputs": [
    {
     "name": "stdout",
     "output_type": "stream",
     "text": [
      "x는 10이상이다.\n",
      "x는 10이다.\n"
     ]
    }
   ],
   "source": [
    "x = 10\n",
    "if x >= 10:\n",
    "    print(\"x는 10이상이다.\")\n",
    "    \n",
    "    if x == 10 :\n",
    "        print(\"x는 10이다.\")\n",
    "    if x == 15 :\n",
    "        print(\"x는 15이다.\")"
   ]
  },
  {
   "cell_type": "markdown",
   "metadata": {},
   "source": [
    "### if-else\n",
    "\n",
    "[문법]\n",
    "~~~\n",
    "if 조건1 : \n",
    "    조건1 참인 경우 \n",
    "elif 조건2 : \n",
    "    조건1 거짓, 조건2 참인 경우 \n",
    "else : \n",
    "    조건1, 조건2 모두 거짓인 경우 \n",
    "~~~"
   ]
  },
  {
   "cell_type": "code",
   "execution_count": 6,
   "metadata": {},
   "outputs": [
    {
     "name": "stdout",
     "output_type": "stream",
     "text": [
      "x는 10 미만이다.\n"
     ]
    }
   ],
   "source": [
    "x = 9\n",
    "if x < 10:\n",
    "    print(\"x는 10 미만이다.\")\n",
    "elif 10<= x <20:\n",
    "    print(\"x는 10이상 20 미만이다.\")\n",
    "else:\n",
    "    print(\"x는 20이상이다.\")"
   ]
  }
 ],
 "metadata": {
  "kernelspec": {
   "display_name": "Python 3",
   "language": "python",
   "name": "python3"
  },
  "language_info": {
   "codemirror_mode": {
    "name": "ipython",
    "version": 3
   },
   "file_extension": ".py",
   "mimetype": "text/x-python",
   "name": "python",
   "nbconvert_exporter": "python",
   "pygments_lexer": "ipython3",
   "version": "3.6.5"
  }
 },
 "nbformat": 4,
 "nbformat_minor": 2
}
