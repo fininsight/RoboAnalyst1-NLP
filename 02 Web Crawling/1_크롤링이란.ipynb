{
 "cells": [
  {
   "cell_type": "markdown",
   "metadata": {},
   "source": [
    "### 크롤링이란?"
   ]
  },
  {
   "cell_type": "markdown",
   "metadata": {},
   "source": [
    "* 비정형 데이터를 수집하여 정형화 하는 것"
   ]
  },
  {
   "cell_type": "markdown",
   "metadata": {},
   "source": [
    "### 웹 페이지를 어떻게 볼 수 있을까?\n",
    "(1) 사용자가 브라우저에서 클릭하거나 URL 입력  \n",
    "(2) 브라우저는 서버에 데이터 요청  \n",
    "(3) 서버는 요청에 대한 응답을 브라우저에 응답  \n",
    "(4) 브라우저는 응답을 파싱하여 적절한 형태로 사용자에게 보여줌  "
   ]
  },
  {
   "cell_type": "markdown",
   "metadata": {},
   "source": [
    "### 크롤링으로 해야할 일은 무엇일까?\n",
    "* URL로 서버에 웹 소스를 요청\n",
    "* 서버로부터 응답에서 원하는 데이터 파싱"
   ]
  }
 ],
 "metadata": {
  "kernelspec": {
   "display_name": "Python 3",
   "language": "python",
   "name": "python3"
  },
  "language_info": {
   "codemirror_mode": {
    "name": "ipython",
    "version": 3
   },
   "file_extension": ".py",
   "mimetype": "text/x-python",
   "name": "python",
   "nbconvert_exporter": "python",
   "pygments_lexer": "ipython3",
   "version": "3.6.5"
  }
 },
 "nbformat": 4,
 "nbformat_minor": 2
}
