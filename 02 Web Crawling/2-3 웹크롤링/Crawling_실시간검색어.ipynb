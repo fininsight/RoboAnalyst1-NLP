{
 "cells": [
  {
   "cell_type": "code",
   "execution_count": null,
   "metadata": {},
   "outputs": [],
   "source": [
    "# requests라이브러리 사용해보기\n",
    "import requests\n",
    "from bs4 import BeautifulSoup"
   ]
  },
  {
   "cell_type": "code",
   "execution_count": null,
   "metadata": {},
   "outputs": [],
   "source": [
    "response = requests.get('https://naver.com')\n",
    "soup = BeautifulSoup(response.text,'html.parser')"
   ]
  },
  {
   "cell_type": "code",
   "execution_count": null,
   "metadata": {},
   "outputs": [],
   "source": [
    "keyword_list = soup.select('div[class=\"ah_roll_area PM_CL_realtimeKeyword_rolling\"] li span[class=\"ah_k\"]')\n",
    "\n",
    "for keyword in keyword_list:\n",
    "    print(keyword.text)"
   ]
  },
  {
   "cell_type": "code",
   "execution_count": null,
   "metadata": {},
   "outputs": [],
   "source": [
    "keyword_list = soup.select('div[class=\"ah_roll_area PM_CL_realtimeKeyword_rolling\"] li')\n",
    "\n",
    "for keyword in keyword_list:\n",
    "    rank = keyword.select('.ah_r')[0].text\n",
    "    title = keyword.select('.ah_k')[0].text\n",
    "    print(rank,title)"
   ]
  },
  {
   "cell_type": "code",
   "execution_count": null,
   "metadata": {},
   "outputs": [],
   "source": [
    "keyword_list = soup.select('div[class=\"ah_roll_area PM_CL_realtimeKeyword_rolling\"] li')\n",
    "\n",
    "for keyword in keyword_list:\n",
    "    rank = keyword.select('span[class=\"ah_r\"]')[0].text\n",
    "    title = keyword.select('span[class=\"ah_k\"]')[0].text\n",
    "    print(rank,title)"
   ]
  }
 ],
 "metadata": {
  "kernelspec": {
   "display_name": "Python 3",
   "language": "python",
   "name": "python3"
  },
  "language_info": {
   "codemirror_mode": {
    "name": "ipython",
    "version": 3
   },
   "file_extension": ".py",
   "mimetype": "text/x-python",
   "name": "python",
   "nbconvert_exporter": "python",
   "pygments_lexer": "ipython3",
   "version": "3.6.5"
  }
 },
 "nbformat": 4,
 "nbformat_minor": 2
}
