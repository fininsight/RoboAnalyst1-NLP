{
 "cells": [
  {
   "cell_type": "code",
   "execution_count": 1,
   "metadata": {},
   "outputs": [],
   "source": [
    "import requests\n",
    "from bs4 import BeautifulSoup\n",
    "\n",
    "class crawling_IT:\n",
    "    def __init__(self):\n",
    "        f = open('IT_news.csv','w',encoding='utf-8')\n",
    "        # 5페이지까지 크롤링\n",
    "        for page in [1,2,3,4,5]:\n",
    "            url_ls = get_url(page)\n",
    "            for url in url_ls:\n",
    "                get_content(url['href'])\n",
    "        f.close()\n",
    "    \n",
    "    def get_url(page):\n",
    "        url = 'https://news.naver.com/main/list.nhn?mode=LS2D&mid=shm&sid2=230&sid1=105&date=20190122&page='\n",
    "        url += str(page)\n",
    "        response = requests.get(url)\n",
    "        soup = BeautifulSoup(response.text,'html.parser')\n",
    "\n",
    "        crawl_ls = soup.select('div[class=\"list_body newsflash_body\"] ul[class=\"type06_headline\"] li')    # 처음 10개 기사\n",
    "        crawl_ls += soup.select('div[class=\"list_body newsflash_body\"] ul[class=\"type06\"] li')    # 다음 10개 기사\n",
    "\n",
    "        url_ls = []\n",
    "        for crawl in crawl_ls: \n",
    "            url_ls += crawl.select('dt:nth-of-type(1) a')    # 1번째 dt태그 지정\n",
    "\n",
    "        return url_ls\n",
    "    \n",
    "    def get_content(url):\n",
    "        response = requests.get(url)\n",
    "        soup = BeautifulSoup(response.text,'html.parser')\n",
    "\n",
    "        # script,br태그 지우기\n",
    "        for match in soup.findAll('script'):\n",
    "            match.replace_with('')\n",
    "\n",
    "        content_ls = soup.select('div[id=\"articleBodyContents\"]')\n",
    "\n",
    "        for content in content_ls:\n",
    "            f.write(content.get_text().strip())"
   ]
  },
  {
   "cell_type": "code",
   "execution_count": null,
   "metadata": {},
   "outputs": [],
   "source": []
  }
 ],
 "metadata": {
  "kernelspec": {
   "display_name": "Python 3",
   "language": "python",
   "name": "python3"
  },
  "language_info": {
   "codemirror_mode": {
    "name": "ipython",
    "version": 3
   },
   "file_extension": ".py",
   "mimetype": "text/x-python",
   "name": "python",
   "nbconvert_exporter": "python",
   "pygments_lexer": "ipython3",
   "version": "3.6.5"
  }
 },
 "nbformat": 4,
 "nbformat_minor": 2
}
