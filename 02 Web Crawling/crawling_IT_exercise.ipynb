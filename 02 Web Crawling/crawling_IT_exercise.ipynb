{
 "cells": [
  {
   "cell_type": "code",
   "execution_count": 1,
   "metadata": {},
   "outputs": [],
   "source": [
    "import requests\n",
    "from bs4 import BeautifulSoup"
   ]
  },
  {
   "cell_type": "markdown",
   "metadata": {},
   "source": [
    "### Step1. 첫번째 페이지만 크롤링 해 보기"
   ]
  },
  {
   "cell_type": "code",
   "execution_count": null,
   "metadata": {},
   "outputs": [],
   "source": [
    "url = 'https://news.naver.com/main/list.nhn?mode=LS2D&mid=shm&sid2=230&sid1=105&date=20190122&page=1'\n",
    "response = requests.get(url)\n",
    "soup = BeautifulSoup(response.text,'html.parser')"
   ]
  },
  {
   "cell_type": "code",
   "execution_count": null,
   "metadata": {},
   "outputs": [],
   "source": [
    "crawl_ls = soup.select('div[class=\"list_body newsflash_body\"] ul[class=\"type06_headline\"] li')    # 처음 10개 기사\n",
    "crawl_ls += soup.select('div[class=\"list_body newsflash_body\"] ul[class=\"type06\"] li')    # 다음 10개 기사"
   ]
  },
  {
   "cell_type": "code",
   "execution_count": null,
   "metadata": {},
   "outputs": [],
   "source": [
    "url_ls = []\n",
    "for crawl in crawl_ls: \n",
    "    url_ls += crawl.select('dt:nth-of-type(1) a') # 1번째 dt태그 지정"
   ]
  },
  {
   "cell_type": "code",
   "execution_count": null,
   "metadata": {},
   "outputs": [],
   "source": [
    "for url in url_ls:\n",
    "    response = requests.get(url['href'])\n",
    "    soup = BeautifulSoup(response.text,'html.parser')\n",
    "    \n",
    "    for match in soup.findAll('script'):\n",
    "        match.replace_with('')\n",
    "        \n",
    "    content_ls = soup.select('div[id=\"articleBodyContents\"]')\n",
    "    for content in content_ls:\n",
    "        print(content.get_text().strip())"
   ]
  },
  {
   "cell_type": "markdown",
   "metadata": {},
   "source": [
    "### Step2. 함수화하여 5페이지 크롤링하기"
   ]
  },
  {
   "cell_type": "code",
   "execution_count": 2,
   "metadata": {},
   "outputs": [],
   "source": [
    "def get_url(page):\n",
    "        url = 'https://news.naver.com/main/list.nhn?mode=LS2D&mid=shm&sid2=230&sid1=105&date=20190122&page='\n",
    "        url += str(page)\n",
    "        response = requests.get(url)\n",
    "        soup = BeautifulSoup(response.text,'html.parser')\n",
    "\n",
    "        crawl_ls = soup.select('div[class=\"list_body newsflash_body\"] ul[class=\"type06_headline\"] li')    # 처음 10개 기사\n",
    "        crawl_ls += soup.select('div[class=\"list_body newsflash_body\"] ul[class=\"type06\"] li')    # 다음 10개 기사\n",
    "\n",
    "        url_ls = []\n",
    "        for crawl in crawl_ls: \n",
    "            url_ls += crawl.select('dt:nth-of-type(1) a')    # 1번째 dt태그 지정\n",
    "\n",
    "        return url_ls"
   ]
  },
  {
   "cell_type": "code",
   "execution_count": 3,
   "metadata": {},
   "outputs": [],
   "source": [
    "def get_content(url):\n",
    "        response = requests.get(url)\n",
    "        soup = BeautifulSoup(response.text,'html.parser')\n",
    "\n",
    "        # script,br태그 지우기\n",
    "        for match in soup.findAll('script'):\n",
    "            match.replace_with('')\n",
    "\n",
    "        content_ls = soup.select('div[id=\"articleBodyContents\"]')\n",
    "\n",
    "        for content in content_ls:\n",
    "            f.write('{0}\\n'.format(content.get_text().strip()))"
   ]
  },
  {
   "cell_type": "code",
   "execution_count": 4,
   "metadata": {},
   "outputs": [],
   "source": [
    "# 파일 열기\n",
    "f = open('IT_news.csv','w',encoding='utf-8')\n",
    "\n",
    "# 5페이지까지 크롤링\n",
    "for page in [1,2,3,4,5]:\n",
    "    url_ls = get_url(page)\n",
    "    for url in url_ls:\n",
    "        get_content(url['href'])\n",
    "\n",
    "# 파일 닫기\n",
    "f.close()"
   ]
  },
  {
   "cell_type": "code",
   "execution_count": null,
   "metadata": {},
   "outputs": [],
   "source": []
  }
 ],
 "metadata": {
  "kernelspec": {
   "display_name": "Python 3",
   "language": "python",
   "name": "python3"
  },
  "language_info": {
   "codemirror_mode": {
    "name": "ipython",
    "version": 3
   },
   "file_extension": ".py",
   "mimetype": "text/x-python",
   "name": "python",
   "nbconvert_exporter": "python",
   "pygments_lexer": "ipython3",
   "version": "3.6.5"
  }
 },
 "nbformat": 4,
 "nbformat_minor": 2
}
