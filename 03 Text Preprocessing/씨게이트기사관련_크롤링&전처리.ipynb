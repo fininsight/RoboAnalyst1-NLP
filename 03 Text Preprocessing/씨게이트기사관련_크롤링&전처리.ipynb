{
 "cells": [
  {
   "cell_type": "code",
   "execution_count": 2,
   "metadata": {},
   "outputs": [],
   "source": [
    "import requests\n",
    "from bs4 import BeautifulSoup\n",
    "from konlpy.tag import Kkma\n",
    "from konlpy.tag import Okt"
   ]
  },
  {
   "cell_type": "code",
   "execution_count": 3,
   "metadata": {},
   "outputs": [],
   "source": [
    "# 크롤링\n",
    "url = 'https://news.v.daum.net/v/20181020130619303'\n",
    "response = requests.get(url)\n",
    "# response.encoding = 'utf-8'\n",
    "soup = BeautifulSoup(response.text,'html.parser')\n",
    "news = soup.select('div[class=\"news_view\"]')"
   ]
  },
  {
   "cell_type": "code",
   "execution_count": 4,
   "metadata": {},
   "outputs": [],
   "source": [
    "# 토큰화\n",
    "for newsText in news:\n",
    "    token = Kkma().sentences(newsText.text)"
   ]
  },
  {
   "cell_type": "code",
   "execution_count": 7,
   "metadata": {},
   "outputs": [
    {
     "name": "stdout",
     "output_type": "stream",
     "text": [
      "[('씨', 'Noun'), ('게이트', 'Noun'), ('테크놀로지', 'Noun'), ('(', 'Punctuation'), ('Seagate', 'Alpha'), ('Technology', 'Alpha'), (',', 'Punctuation'), ('NASDAQ', 'Alpha'), (':', 'Punctuation'), ('STX', 'Alpha'), (')', 'Punctuation'), ('가', 'Verb'), ('2018년', 'Number'), ('프', 'Noun'), ('톨레미', 'Noun'), ('데이터', 'Noun'), ('사이언스', 'Noun'), ('어', 'Eomi'), ('워드', 'Noun'), ('(', 'Punctuation'), ('Ptolemy', 'Alpha'), ('Data', 'Alpha'), ('Science', 'Alpha'), ('Award', 'Alpha'), (')', 'Punctuation'), ('의', 'Noun'), ('수상', 'Noun'), ('자로', 'Noun'), ('헬스', 'Noun'), ('케어', 'Noun'), ('스타트', 'Noun'), ('업', 'Noun'), ('콜', 'Noun'), ('렉', 'Noun'), ('티브', 'Noun'), ('헬스', 'Noun'), ('(', 'Punctuation'), ('Collective', 'Alpha'), ('Health', 'Alpha'), (')', 'Punctuation'), ('를', 'Noun'), ('선정', 'Noun'), ('했다고', 'Verb'), ('20일', 'Number'), ('밝혔다', 'Verb'), ('.', 'Punctuation'), ('프', 'Noun'), ('톨레미', 'Noun'), ('데이터', 'Noun'), ('사이언스', 'Noun'), ('어', 'Eomi'), ('워드', 'Noun'), ('는', 'Josa'), ('씨', 'Noun'), ('게이트', 'Noun'), ('가', 'Josa'), ('매년', 'Noun'), ('데이터', 'Noun'), ('사이언스', 'Noun'), ('를', 'Josa'), ('활용', 'Noun'), ('해', 'Verb'), ('인류', 'Noun'), ('의', 'Josa'), ('삶', 'Noun'), ('을', 'Josa'), ('새로운', 'Adjective'), ('방식', 'Noun'), ('으로', 'Josa'), ('개선', 'Noun'), ('하고', 'Josa'), ('있는', 'Adjective'), ('기업', 'Noun'), ('이나', 'Josa'), ('단체', 'Noun'), ('에', 'Josa'), ('수여', 'Noun'), ('하는', 'Verb'), ('상이', 'Noun'), ('다', 'Josa'), ('.', 'Punctuation'), ('씨', 'Noun'), ('게이트', 'Noun'), ('는', 'Josa'), ('콜', 'Noun'), ('렉', 'Noun'), ('티브', 'Noun'), ('헬스', 'Noun'), ('가', 'Josa'), ('데이터', 'Noun'), ('를', 'Josa'), ('통해', 'Noun'), ('기업', 'Noun'), ('이', 'Josa'), ('주체', 'Noun'), ('적', 'Suffix'), ('으로', 'Josa'), ('헬스', 'Noun'), ('케어', 'Noun'), ('시스템', 'Noun'), ('을', 'Josa'), ('관리', 'Noun'), ('할', 'Verb'), ('수', 'Noun'), ('있도록', 'Adjective'), ('함', 'Noun'), ('과', 'Josa'), ('동시', 'Noun'), ('에', 'Josa'), (',', 'Punctuation'), ('인류', 'Noun'), ('의', 'Josa'), ('삶', 'Noun'), ('에', 'Josa'), ('기여', 'Noun'), ('하는', 'Verb'), ('새로운', 'Adjective'), ('방식', 'Noun'), ('을', 'Josa'), ('제시', 'Noun'), ('했다는', 'Verb'), ('점', 'Noun'), ('을', 'Josa'), ('주요한', 'Noun'), ('선정', 'Noun'), ('이유', 'Noun'), ('로', 'Josa'), ('꼽았다', 'Noun'), ('.', 'Punctuation'), ('콜', 'Noun'), ('렉', 'Noun'), ('티브', 'Noun'), ('헬스', 'Noun'), ('가', 'Josa'), ('자체', 'Noun'), ('개발', 'Noun'), ('한', 'Josa'), ('‘', 'Foreign'), ('임', 'Noun'), ('직원', 'Noun'), ('헬스', 'Noun'), ('매니지먼트', 'Noun'), ('시스템', 'Noun'), ('(', 'Punctuation'), ('Workforce', 'Alpha'), ('Health', 'Alpha'), ('Management', 'Alpha'), ('System', 'Alpha'), (')’', 'Punctuation'), ('을', 'Josa'), ('통해', 'Noun'), ('기업', 'Noun'), ('은', 'Josa'), ('보다', 'Verb'), ('쉽게', 'Verb'), ('헬스', 'Noun'), ('케어', 'Noun'), ('관련', 'Noun'), ('투자', 'Noun'), ('현황', 'Noun'), ('이나', 'Josa'), ('임', 'Noun'), ('직원', 'Noun'), ('의', 'Josa'), ('건강', 'Noun'), ('상태', 'Noun'), ('등', 'Noun'), ('을', 'Josa'), ('파악', 'Noun'), ('할', 'Verb'), ('수', 'Noun'), ('있다', 'Adjective'), ('.', 'Punctuation'), ('콜', 'Noun'), ('렉', 'Noun'), ('티브', 'Noun'), ('헬스', 'Noun'), ('는', 'Josa'), ('데이터', 'Noun'), ('의', 'Josa'), ('잠재', 'Noun'), ('성', 'Suffix'), ('을', 'Josa'), ('극대', 'Noun'), ('화하여', 'Adjective'), ('기업', 'Noun'), ('내', 'Noun'), ('혁신', 'Noun'), ('적', 'Noun'), ('인', 'Josa'), ('헬스', 'Noun'), ('케어', 'Noun'), ('서비스', 'Noun'), ('를', 'Josa'), ('제공', 'Noun'), ('하고', 'Josa'), ('있다', 'Adjective'), ('.', 'Punctuation'), ('매일', 'Noun'), ('100', 'Number'), ('여', 'Noun'), ('개', 'Noun'), ('이상', 'Noun'), ('의', 'Josa'), ('소스', 'Noun'), ('에서', 'Josa'), ('생', 'Noun'), ('성', 'Suffix'), ('되는', 'Verb'), ('데이터', 'Noun'), ('를', 'Josa'), ('분석', 'Noun'), ('하며', 'Verb'), ('발생', 'Noun'), ('할', 'Verb'), ('수', 'Noun'), ('있는', 'Adjective'), ('오류', 'Noun'), ('를', 'Josa'), ('최대한', 'Noun'), ('줄', 'Noun'), ('이고', 'Josa'), (',', 'Punctuation'), ('임', 'Noun'), ('직원', 'Noun'), ('의', 'Josa'), ('헬스', 'Noun'), ('케어', 'Noun'), ('기록', 'Noun'), ('을', 'Josa'), ('파악', 'Noun'), ('하여', 'Verb'), ('개인', 'Noun'), ('화', 'Noun'), ('된', 'Verb'), ('맞춤', 'Noun'), ('헬스', 'Noun'), ('케어', 'Noun'), ('플랜', 'Noun'), ('을', 'Josa'), ('개발', 'Noun'), ('할', 'Verb'), ('수', 'Noun'), ('있기', 'Adjective'), ('때문', 'Noun'), ('이다', 'Josa'), ('.', 'Punctuation'), ('콜', 'Noun'), ('렉', 'Noun'), ('티브', 'Noun'), ('헬스', 'Noun'), ('에', 'Josa'), ('대한', 'Noun'), ('더', 'Noun'), ('자세한', 'Adjective'), ('정보', 'Noun'), ('는', 'Josa'), ('해당', 'Noun'), ('영상', 'Noun'), ('에서', 'Josa'), ('확인', 'Noun'), ('할', 'Verb'), ('수', 'Noun'), ('있다', 'Adjective'), ('.', 'Punctuation'), ('씨', 'Noun'), ('게이트', 'Noun'), ('는', 'Josa'), ('콜', 'Noun'), ('렉', 'Noun'), ('티브', 'Noun'), ('헬스', 'Noun'), ('가', 'Josa'), ('방대한', 'Adjective'), ('양', 'Noun'), ('의', 'Josa'), ('데이터', 'Noun'), ('를', 'Josa'), ('보다', 'Verb'), ('쉽고', 'Verb'), ('빠르게', 'Adjective'), ('처리', 'Noun'), ('및', 'Noun'), ('관리', 'Noun'), ('할', 'Verb'), ('수', 'Noun'), ('있도록', 'Adjective'), ('적극', 'Noun'), ('지원', 'Noun'), ('하고', 'Josa'), ('있다', 'Adjective'), ('.', 'Punctuation'), ('씨', 'Noun'), ('게이트', 'Noun'), ('와의', 'Josa'), ('파트너', 'Noun'), ('십', 'Suffix'), ('으로', 'Josa'), ('콜', 'Noun'), ('렉', 'Noun'), ('티브', 'Noun'), ('헬스', 'Noun'), ('가', 'Josa'), ('제공', 'Noun'), ('하고', 'Josa'), ('있는', 'Adjective'), ('보다', 'Verb'), ('연결', 'Noun'), ('된', 'Verb'), ('헬스', 'Noun'), ('케어', 'Noun'), ('경험', 'Noun'), ('에', 'Josa'), ('대한', 'Noun'), ('더', 'Noun'), ('구체', 'Noun'), ('적', 'Suffix'), ('인', 'Josa'), ('정보', 'Noun'), ('는', 'Josa'), ('해당', 'Noun'), ('블', 'Noun'), ('로그', 'Noun'), ('페이지', 'Noun'), ('에서', 'Josa'), ('확인', 'Noun'), ('할', 'Verb'), ('수', 'Noun'), ('있다', 'Adjective'), ('.', 'Punctuation'), ('오늘날', 'Noun'), ('더', 'Noun'), ('많은', 'Adjective'), ('데이터', 'Noun'), ('가', 'Josa'), ('생', 'Noun'), ('성', 'Suffix'), ('되고', 'Verb'), ('분석', 'Noun'), ('됨에', 'Verb'), ('따라', 'Verb'), ('데이터', 'Noun'), ('사이언스', 'Noun'), ('분야', 'Noun'), ('도', 'Josa'), ('끊임없이', 'Adjective'), ('진화', 'Noun'), ('하고', 'Josa'), ('있다', 'Adjective'), ('.', 'Punctuation'), ('수상자', 'Noun'), ('에게는', 'Josa'), ('10,000달러', 'Number'), ('상당', 'Noun'), ('의', 'Josa'), ('씨', 'Noun'), ('게이트', 'Noun'), ('제품', 'Noun'), ('과', 'Josa'), (',', 'Punctuation'), ('25,000', 'Number'), ('달러', 'Noun'), ('의', 'Josa'), ('상금', 'Noun'), ('이', 'Josa'), ('수여', 'Noun'), ('된다', 'Verb'), ('.', 'Punctuation'), ('2017년', 'Number'), ('에는', 'Foreign'), ('세계', 'Noun'), ('의', 'Josa'), ('문화유산', 'Noun'), ('을', 'Josa'), ('디지털', 'Noun'), ('아', 'Exclamation'), ('카', 'Noun'), ('이브', 'Noun'), ('화', 'Suffix'), ('하여', 'Verb'), ('보존', 'Noun'), ('하는', 'Verb'), ('비영리단체', 'Noun'), ('싸', 'Verb'), ('이', 'Determiner'), ('아크', 'Noun'), ('(', 'Punctuation'), ('Cyark', 'Alpha'), (')', 'Punctuation'), ('가', 'Verb'), ('어', 'Eomi'), ('워드', 'Noun'), ('의', 'Josa'), ('수상자', 'Noun'), ('로', 'Josa'), ('선정', 'Noun'), ('된', 'Verb'), ('바', 'Noun'), ('있다', 'Adjective'), ('.', 'Punctuation'), ('ksh@fnnews', 'Email'), ('.', 'Punctuation'), ('com', 'Alpha'), ('김', 'Noun'), ('성환', 'Noun'), ('기자', 'Noun')]\n"
     ]
    }
   ],
   "source": [
    "# 형태소 분석\n",
    "okt = Okt()\n",
    "oktTag = []\n",
    "\n",
    "for sentence in token:\n",
    "    oktTag += okt.pos(sentence)\n",
    "\n",
    "print(oktTag)"
   ]
  },
  {
   "cell_type": "code",
   "execution_count": 8,
   "metadata": {},
   "outputs": [
    {
     "name": "stdout",
     "output_type": "stream",
     "text": [
      "['씨', '게이트', '테크놀로지', '가', '프', '톨레미', '데이터', '사이언스', '어', '워드', '수상', '자로', '헬스', '케어', '스타트', '업', '콜', '렉', '티브', '헬스', '를', '선정', '밝혔다', '프', '톨레미', '데이터', '사이언스', '어', '워드', '씨', '게이트', '매년', '데이터', '사이언스', '활용', '해', '인류', '삶', '새로운', '방식', '개선', '있는', '기업', '단체', '수여', '하는', '상이', '씨', '게이트', '콜', '렉', '티브', '헬스', '데이터', '통해', '기업', '주체', '헬스', '케어', '시스템', '관리', '함', '동시', '인류', '삶', '기여', '하는', '새로운', '방식', '제시', '점', '주요한', '선정', '이유', '꼽았다', '콜', '렉', '티브', '헬스', '자체', '개발', '임', '직원', '헬스', '매니지먼트', '시스템', '통해', '기업', '보다', '쉽게', '헬스', '케어', '관련', '투자', '현황', '임', '직원', '건강', '상태', '등', '파악', '콜', '렉', '티브', '헬스', '데이터', '잠재', '극대', '화하여', '기업', '내', '혁신', '적', '헬스', '케어', '서비스', '제공', '매일', '여', '개', '이상', '소스', '생', '되는', '데이터', '분석', '하며', '발생', '있는', '오류', '최대한', '줄', '임', '직원', '헬스', '케어', '기록', '파악', '하여', '개인', '화', '된', '맞춤', '헬스', '케어', '플랜', '개발', '있기', '때문', '콜', '렉', '티브', '헬스', '대한', '더', '자세한', '정보', '해당', '영상', '확인', '씨', '게이트', '콜', '렉', '티브', '헬스', '방대한', '양', '데이터', '보다', '쉽고', '빠르게', '처리', '관리', '적극', '지원', '씨', '게이트', '파트너', '콜', '렉', '티브', '헬스', '제공', '있는', '보다', '연결', '된', '헬스', '케어', '경험', '대한', '더', '구체', '정보', '해당', '블', '로그', '페이지', '확인', '오늘날', '더', '많은', '데이터', '생', '되고', '분석', '됨에', '따라', '데이터', '사이언스', '분야', '끊임없이', '진화', '수상자', '상당', '씨', '게이트', '제품', '달러', '상금', '수여', '된다', '세계', '문화유산', '디지털', '아', '카', '이브', '하여', '보존', '하는', '비영리단체', '싸', '이', '아크', '가', '어', '워드', '수상자', '선정', '된', '바', '김', '성환']\n"
     ]
    }
   ],
   "source": [
    "# 불용어(어미, 구두점, 조사 , 외국어, 알파벳, 숫자등과 최빈어)제거\n",
    "word = []\n",
    "stopPos = ['Suffix','Punctuation','Josa','Foreign','Alpha','Number','Email']\n",
    "stopWord = ['있도록','기자','있다','및','의','했다고','했다는','할','수']\n",
    "\n",
    "for tag in oktTag:\n",
    "    if tag[1] not in stopPos:\n",
    "        if tag[0] not in stopWord:\n",
    "            word.append(tag[0])\n",
    "\n",
    "print(word)"
   ]
  },
  {
   "cell_type": "code",
   "execution_count": 14,
   "metadata": {},
   "outputs": [
    {
     "data": {
      "text/plain": [
       "[('헬스', 15),\n",
       " ('데이터', 9),\n",
       " ('케어', 7),\n",
       " ('콜', 7),\n",
       " ('렉', 7),\n",
       " ('티브', 7),\n",
       " ('수', 7),\n",
       " ('씨', 6),\n",
       " ('게이트', 6),\n",
       " ('사이언스', 4),\n",
       " ('기업', 4),\n",
       " ('어', 3),\n",
       " ('워드', 3),\n",
       " ('선정', 3),\n",
       " ('임', 3),\n",
       " ('직원', 3),\n",
       " ('보다', 3),\n",
       " ('된', 3),\n",
       " ('더', 3),\n",
       " ('가', 2),\n",
       " ('프', 2),\n",
       " ('톨레미', 2),\n",
       " ('인류', 2),\n",
       " ('삶', 2),\n",
       " ('새로운', 2),\n",
       " ('방식', 2),\n",
       " ('수여', 2),\n",
       " ('통해', 2),\n",
       " ('시스템', 2),\n",
       " ('관리', 2),\n",
       " ('있도록', 2),\n",
       " ('개발', 2),\n",
       " ('파악', 2),\n",
       " ('제공', 2),\n",
       " ('생', 2),\n",
       " ('분석', 2),\n",
       " ('하여', 2),\n",
       " ('대한', 2),\n",
       " ('정보', 2),\n",
       " ('해당', 2),\n",
       " ('확인', 2),\n",
       " ('수상자', 2),\n",
       " ('테크놀로지', 1),\n",
       " ('의', 1),\n",
       " ('수상', 1),\n",
       " ('자로', 1),\n",
       " ('스타트', 1),\n",
       " ('업', 1),\n",
       " ('했다고', 1),\n",
       " ('밝혔다', 1),\n",
       " ('매년', 1),\n",
       " ('활용', 1),\n",
       " ('해', 1),\n",
       " ('개선', 1),\n",
       " ('단체', 1),\n",
       " ('상이', 1),\n",
       " ('주체', 1),\n",
       " ('함', 1),\n",
       " ('동시', 1),\n",
       " ('기여', 1),\n",
       " ('제시', 1),\n",
       " ('했다는', 1),\n",
       " ('점', 1),\n",
       " ('주요한', 1),\n",
       " ('이유', 1),\n",
       " ('꼽았다', 1),\n",
       " ('자체', 1),\n",
       " ('매니지먼트', 1),\n",
       " ('쉽게', 1),\n",
       " ('관련', 1),\n",
       " ('투자', 1),\n",
       " ('현황', 1),\n",
       " ('건강', 1),\n",
       " ('상태', 1),\n",
       " ('등', 1),\n",
       " ('잠재', 1),\n",
       " ('극대', 1),\n",
       " ('화하여', 1),\n",
       " ('내', 1),\n",
       " ('혁신', 1),\n",
       " ('적', 1),\n",
       " ('서비스', 1),\n",
       " ('매일', 1),\n",
       " ('여', 1),\n",
       " ('개', 1),\n",
       " ('이상', 1),\n",
       " ('소스', 1),\n",
       " ('되는', 1),\n",
       " ('하며', 1),\n",
       " ('발생', 1),\n",
       " ('오류', 1),\n",
       " ('최대한', 1),\n",
       " ('줄', 1),\n",
       " ('기록', 1),\n",
       " ('개인', 1),\n",
       " ('화', 1),\n",
       " ('맞춤', 1),\n",
       " ('플랜', 1),\n",
       " ('있기', 1),\n",
       " ('때문', 1),\n",
       " ('자세한', 1),\n",
       " ('영상', 1),\n",
       " ('방대한', 1),\n",
       " ('양', 1),\n",
       " ('쉽고', 1),\n",
       " ('빠르게', 1),\n",
       " ('처리', 1),\n",
       " ('및', 1),\n",
       " ('적극', 1),\n",
       " ('지원', 1),\n",
       " ('파트너', 1),\n",
       " ('연결', 1),\n",
       " ('경험', 1),\n",
       " ('구체', 1),\n",
       " ('블', 1),\n",
       " ('로그', 1),\n",
       " ('페이지', 1),\n",
       " ('오늘날', 1),\n",
       " ('많은', 1),\n",
       " ('되고', 1),\n",
       " ('됨에', 1),\n",
       " ('따라', 1),\n",
       " ('분야', 1),\n",
       " ('끊임없이', 1),\n",
       " ('진화', 1),\n",
       " ('상당', 1),\n",
       " ('제품', 1),\n",
       " ('달러', 1),\n",
       " ('상금', 1),\n",
       " ('된다', 1),\n",
       " ('세계', 1),\n",
       " ('문화유산', 1),\n",
       " ('디지털', 1),\n",
       " ('아', 1),\n",
       " ('카', 1),\n",
       " ('이브', 1),\n",
       " ('보존', 1),\n",
       " ('비영리단체', 1),\n",
       " ('싸', 1),\n",
       " ('아크', 1),\n",
       " ('바', 1),\n",
       " ('ksh@fnnews', 1),\n",
       " ('김', 1),\n",
       " ('성환', 1),\n",
       " ('기자', 1)]"
      ]
     },
     "execution_count": 14,
     "metadata": {},
     "output_type": "execute_result"
    }
   ],
   "source": [
    "#최빈어 검색(불용어 제거를 위함)\n",
    "from collections import Counter \n",
    "Counter(word).most_common() "
   ]
  },
  {
   "cell_type": "code",
   "execution_count": null,
   "metadata": {},
   "outputs": [],
   "source": []
  }
 ],
 "metadata": {
  "kernelspec": {
   "display_name": "Python 3",
   "language": "python",
   "name": "python3"
  },
  "language_info": {
   "codemirror_mode": {
    "name": "ipython",
    "version": 3
   },
   "file_extension": ".py",
   "mimetype": "text/x-python",
   "name": "python",
   "nbconvert_exporter": "python",
   "pygments_lexer": "ipython3",
   "version": "3.6.5"
  }
 },
 "nbformat": 4,
 "nbformat_minor": 2
}
