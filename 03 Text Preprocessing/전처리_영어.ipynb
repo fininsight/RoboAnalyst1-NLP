{
 "cells": [
  {
   "cell_type": "markdown",
   "metadata": {},
   "source": [
    "# 3-1 텍스트 전처리_영어"
   ]
  },
  {
   "cell_type": "markdown",
   "metadata": {},
   "source": [
    "### 1. 토큰화"
   ]
  },
  {
   "cell_type": "code",
   "execution_count": 1,
   "metadata": {},
   "outputs": [],
   "source": [
    "import nltk\n",
    "from nltk.tokenize import TreebankWordTokenizer"
   ]
  },
  {
   "cell_type": "code",
   "execution_count": 2,
   "metadata": {},
   "outputs": [],
   "source": [
    "text = \"Mark finished Ph.D course. Don't judge a book by its cover. Coffee of well-known brands smells good. Trump is in the White House.\""
   ]
  },
  {
   "cell_type": "code",
   "execution_count": 3,
   "metadata": {},
   "outputs": [
    {
     "name": "stdout",
     "output_type": "stream",
     "text": [
      "['Mark', 'finished', 'Ph.D', 'course.', 'Do', \"n't\", 'judge', 'a', 'book', 'by', 'its', 'cover.', 'Coffee', 'of', 'well-known', 'brands', 'smells', 'good.', 'Trump', 'is', 'in', 'the', 'White', 'House', '.']\n"
     ]
    }
   ],
   "source": [
    "token = TreebankWordTokenizer().tokenize(text)\n",
    "print(token)"
   ]
  },
  {
   "cell_type": "markdown",
   "metadata": {},
   "source": [
    "### 2. 품사 부착"
   ]
  },
  {
   "cell_type": "code",
   "execution_count": 4,
   "metadata": {},
   "outputs": [],
   "source": [
    "from nltk import pos_tag"
   ]
  },
  {
   "cell_type": "code",
   "execution_count": 5,
   "metadata": {},
   "outputs": [
    {
     "name": "stdout",
     "output_type": "stream",
     "text": [
      "[('Mark', 'NNP'), ('finished', 'VBD'), ('Ph.D', 'NNP'), ('course.', 'NNS'), ('Do', 'VBP'), (\"n't\", 'RB'), ('judge', 'VB'), ('a', 'DT'), ('book', 'NN'), ('by', 'IN'), ('its', 'PRP$'), ('cover.', 'JJ'), ('Coffee', 'NNP'), ('of', 'IN'), ('well-known', 'JJ'), ('brands', 'NNS'), ('smells', 'VBZ'), ('good.', 'JJ'), ('Trump', 'NNP'), ('is', 'VBZ'), ('in', 'IN'), ('the', 'DT'), ('White', 'NNP'), ('House', 'NNP'), ('.', '.')]\n"
     ]
    }
   ],
   "source": [
    "taggedToken = pos_tag(token)\n",
    "print(taggedToken)"
   ]
  },
  {
   "cell_type": "markdown",
   "metadata": {},
   "source": [
    "### 3. 개체명 인식"
   ]
  },
  {
   "cell_type": "code",
   "execution_count": 19,
   "metadata": {},
   "outputs": [
    {
     "name": "stdout",
     "output_type": "stream",
     "text": [
      "[nltk_data] Downloading package words to\n",
      "[nltk_data]     C:\\Users\\016sd\\AppData\\Roaming\\nltk_data...\n",
      "[nltk_data]   Unzipping corpora\\words.zip.\n"
     ]
    },
    {
     "data": {
      "text/plain": [
       "True"
      ]
     },
     "execution_count": 19,
     "metadata": {},
     "output_type": "execute_result"
    }
   ],
   "source": [
    "nltk.download('words')"
   ]
  },
  {
   "cell_type": "code",
   "execution_count": 20,
   "metadata": {},
   "outputs": [],
   "source": [
    "from nltk import ne_chunk"
   ]
  },
  {
   "cell_type": "code",
   "execution_count": 21,
   "metadata": {},
   "outputs": [
    {
     "name": "stdout",
     "output_type": "stream",
     "text": [
      "(S\n",
      "  (PERSON Mark/NNP)\n",
      "  finished/VBD\n",
      "  Ph.D/NNP\n",
      "  course./NNS\n",
      "  Do/VBP\n",
      "  n't/RB\n",
      "  judge/VB\n",
      "  a/DT\n",
      "  book/NN\n",
      "  by/IN\n",
      "  its/PRP$\n",
      "  cover./JJ\n",
      "  Coffee/NNP\n",
      "  of/IN\n",
      "  well-known/JJ\n",
      "  brands/NNS\n",
      "  smells/VBZ\n",
      "  good./JJ\n",
      "  (PERSON Trump/NNP)\n",
      "  is/VBZ\n",
      "  in/IN\n",
      "  the/DT\n",
      "  (FACILITY White/NNP House/NNP)\n",
      "  ./.)\n"
     ]
    }
   ],
   "source": [
    "neToken = ne_chunk(taggedToken)\n",
    "print(neToken)"
   ]
  },
  {
   "cell_type": "markdown",
   "metadata": {},
   "source": [
    "### 4. 원형 복원 "
   ]
  },
  {
   "cell_type": "markdown",
   "metadata": {},
   "source": [
    "##### 어간 추출"
   ]
  },
  {
   "cell_type": "code",
   "execution_count": 22,
   "metadata": {},
   "outputs": [
    {
     "name": "stdout",
     "output_type": "stream",
     "text": [
      "running -> run\n",
      "beautiful -> beauti\n",
      "believes -> believ\n",
      "using -> use\n",
      "conversation -> convers\n",
      "organization -> organ\n",
      "studies -> studi\n"
     ]
    }
   ],
   "source": [
    "from nltk.stem import PorterStemmer\n",
    "ps = PorterStemmer()\n",
    "\n",
    "print(\"running -> \" + ps.stem(\"running\"))\n",
    "print(\"beautiful -> \" + ps.stem(\"beautiful\"))\n",
    "print(\"believes -> \" + ps.stem(\"believes\"))\n",
    "print(\"using -> \" + ps.stem(\"using\"))\n",
    "print(\"conversation -> \" + ps.stem(\"conversation\"))\n",
    "print(\"organization -> \" + ps.stem(\"organization\"))\n",
    "print(\"studies -> \" + ps.stem(\"studies\"))"
   ]
  },
  {
   "cell_type": "markdown",
   "metadata": {},
   "source": [
    "##### 표제어 추출"
   ]
  },
  {
   "cell_type": "code",
   "execution_count": 23,
   "metadata": {},
   "outputs": [
    {
     "name": "stdout",
     "output_type": "stream",
     "text": [
      "running -> running\n",
      "beautiful -> beautiful\n",
      "believes -> belief\n",
      "using -> using\n",
      "conversation -> conversation\n",
      "organization -> organization\n",
      "studies -> study\n"
     ]
    }
   ],
   "source": [
    "from nltk.stem import WordNetLemmatizer\n",
    "wl = WordNetLemmatizer()\n",
    "\n",
    "print(\"running -> \" + wl.lemmatize(\"running\"))\n",
    "print(\"beautiful -> \" + wl.lemmatize(\"beautiful\"))\n",
    "print(\"believes -> \" + wl.lemmatize(\"believes\"))\n",
    "print(\"using -> \" + wl.lemmatize(\"using\"))\n",
    "print(\"conversation -> \" + wl.lemmatize(\"conversation\"))\n",
    "print(\"organization -> \" + wl.lemmatize(\"organization\"))\n",
    "print(\"studies -> \" + wl.lemmatize(\"studies\"))"
   ]
  }
 ],
 "metadata": {
  "kernelspec": {
   "display_name": "Python 3",
   "language": "python",
   "name": "python3"
  },
  "language_info": {
   "codemirror_mode": {
    "name": "ipython",
    "version": 3
   },
   "file_extension": ".py",
   "mimetype": "text/x-python",
   "name": "python",
   "nbconvert_exporter": "python",
   "pygments_lexer": "ipython3",
   "version": "3.6.5"
  }
 },
 "nbformat": 4,
 "nbformat_minor": 2
}
