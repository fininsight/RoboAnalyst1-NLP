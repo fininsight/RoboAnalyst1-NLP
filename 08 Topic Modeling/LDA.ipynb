{
 "cells": [
  {
   "cell_type": "code",
   "execution_count": null,
   "metadata": {
    "collapsed": true
   },
   "outputs": [],
   "source": [
    "tuned_data = tuned_data[0]\n",
    "tuned_data = [[j for j in i if len(j) > 1] for i in tuned_data]"
   ]
  },
  {
   "cell_type": "code",
   "execution_count": null,
   "metadata": {
    "collapsed": true
   },
   "outputs": [],
   "source": [
    "word_dict = corpora.Dictionary(tuned_data)\n",
    "print(word_dict)\n",
    "# 딕셔너리는, 각각의 단어들을 key로 가지고, 그에 매칭되는 ID(정수값)을 value로 갖는 형태입니다."
   ]
  },
  {
   "cell_type": "code",
   "execution_count": null,
   "metadata": {
    "collapsed": true
   },
   "outputs": [],
   "source": [
    "word_dict.token2id"
   ]
  },
  {
   "cell_type": "code",
   "execution_count": 104,
   "metadata": {},
   "outputs": [
    {
     "name": "stdout",
     "output_type": "stream",
     "text": [
      "34893\n",
      "[(25, 1), (39, 3), (45, 1), (109, 1), (112, 1), (140, 1), (141, 2), (198, 6), (236, 1), (246, 5), (252, 1), (279, 1), (340, 3), (368, 1), (451, 1), (489, 2), (552, 1), (568, 1), (600, 1), (615, 4), (621, 3), (667, 1), (722, 3), (756, 1), (769, 1), (772, 1), (785, 1), (791, 2), (805, 1), (839, 1), (856, 2), (1084, 1), (1281, 1), (1305, 2), (1355, 2), (1432, 3), (1618, 1), (1629, 1), (1717, 1), (1781, 1), (1878, 1), (1881, 1), (1891, 1), (1915, 1), (1937, 1), (1979, 1), (2070, 3), (2149, 1), (2266, 1), (2498, 2), (2617, 2), (2679, 1), (3030, 1), (3067, 1), (3319, 4), (3327, 3), (3340, 1), (3341, 1), (3342, 3), (3343, 1), (3344, 1), (3345, 1), (3346, 1), (3347, 2), (3348, 7), (3349, 1), (3350, 1), (3351, 1), (3352, 1), (3353, 7), (3354, 1), (3355, 1), (3356, 1), (3357, 1), (3358, 1), (3359, 1), (3360, 1), (3361, 1), (3362, 1), (3363, 1), (3364, 5), (3365, 1), (3366, 1), (3367, 1), (3368, 1), (3369, 1), (3370, 1), (3371, 1)]\n"
     ]
    }
   ],
   "source": [
    "# Converting list of documents (corpus) into Document Term Matrix using dictionary prepared above.\n",
    "doc_term_matrix = [dictionary.doc2bow(doc) for doc in tuned_data]\n",
    "#dictionary.doc2bow(doc) : Convert `document` into the bag-of-words (BoW) format = list of `(token_id, token_count)` tuples.\n",
    "corpora.MmCorpus.serialize('eco_corpus.mm', doc_term_matrix)\n",
    "# Serialize corpus with offset metadata, allows to use direct indexes after loading.\n",
    "\n",
    "print(len(doc_term_matrix))\n",
    "print(doc_term_matrix[100])"
   ]
  },
  {
   "cell_type": "code",
   "execution_count": null,
   "metadata": {
    "collapsed": true
   },
   "outputs": [],
   "source": [
    "def return_lda(doc_term_matrix,dictionary,num_topic_params) :\n",
    "# Creating the object for LDA model using gensim library\n",
    "    Lda = gensim.models.ldamodel.LdaModel\n",
    "\n",
    "    # Running and Trainign LDA model on the document term matrix.\n",
    "    ldamodel = Lda(\n",
    "        corpus=doc_term_matrix,\n",
    "        id2word=dictionary, \n",
    "        num_topics = num_topic_params, \n",
    "        distributed = False,\n",
    "        random_state=100,\n",
    "        update_every=1,\n",
    "        passes = 10,\n",
    "        alpha='auto',\n",
    "        eta = None,\n",
    "        per_word_topics=True,\n",
    "        chunksize=100)\n",
    "\n",
    "    return ldamodel"
   ]
  },
  {
   "cell_type": "code",
   "execution_count": null,
   "metadata": {
    "collapsed": true
   },
   "outputs": [],
   "source": [
    "model = return_lda(doc_term_matrix,dictionary,5)"
   ]
  },
  {
   "cell_type": "code",
   "execution_count": 52,
   "metadata": {},
   "outputs": [
    {
     "data": {
      "text/plain": [
       "[('시장', 0.014232862),\n",
       " ('투자', 0.013112104),\n",
       " ('분기', 0.012347611),\n",
       " ('증가', 0.010669741),\n",
       " ('금융', 0.01045655),\n",
       " ('미국', 0.010031638),\n",
       " ('대비', 0.009607173),\n",
       " ('금리', 0.008933344),\n",
       " ('하락', 0.008756912),\n",
       " ('상승', 0.008633762)]"
      ]
     },
     "execution_count": 52,
     "metadata": {},
     "output_type": "execute_result"
    }
   ],
   "source": [
    "model.show_topic(0)"
   ]
  },
  {
   "cell_type": "code",
   "execution_count": null,
   "metadata": {
    "collapsed": true
   },
   "outputs": [],
   "source": []
  }
 ],
 "metadata": {
  "kernelspec": {
   "display_name": "Python 3",
   "language": "python",
   "name": "python3"
  },
  "language_info": {
   "codemirror_mode": {
    "name": "ipython",
    "version": 3
   },
   "file_extension": ".py",
   "mimetype": "text/x-python",
   "name": "python",
   "nbconvert_exporter": "python",
   "pygments_lexer": "ipython3",
   "version": "3.6.7"
  }
 },
 "nbformat": 4,
 "nbformat_minor": 2
}
