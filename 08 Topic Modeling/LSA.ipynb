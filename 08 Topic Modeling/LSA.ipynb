{
 "cells": [
  {
   "cell_type": "code",
   "execution_count": 1,
   "metadata": {
    "collapsed": true
   },
   "outputs": [],
   "source": [
    "import preprocessing_py as prep\n",
    "from sklearn.feature_extraction.text import TfidfVectorizer\n",
    "from sklearn.decomposition import TruncatedSVD\n",
    "from sklearn.pipeline import Pipeline\n",
    "import numpy as np\n",
    "import pandas as pd\n",
    "from IPython.display import display , Markdown"
   ]
  },
  {
   "cell_type": "code",
   "execution_count": 2,
   "metadata": {},
   "outputs": [
    {
     "data": {
      "text/plain": [
       "153795"
      ]
     },
     "execution_count": 2,
     "metadata": {},
     "output_type": "execute_result"
    }
   ],
   "source": [
    "with open('news.txt') as f : \n",
    "    data = f.readlines()\n",
    "len(data)"
   ]
  },
  {
   "cell_type": "code",
   "execution_count": null,
   "metadata": {
    "collapsed": true
   },
   "outputs": [],
   "source": [
    "from sklearn.feature_extraction.text import TfidfVectorizer\n",
    "vectorizer = TfidfVectorizer( max_df=0.95, \n",
    "                             min_df=2)\n",
    "\n",
    "from sklearn.decomposition import TruncatedSVD\n",
    "svd_model = TruncatedSVD(n_components=n_components,\n",
    "                         algorithm='randomized',\n",
    "                         n_iter=10)\n",
    "\n",
    "from sklearn.pipeline import Pipeline\n",
    "svd_transformer = Pipeline([('tfidf', vectorizer), \n",
    "                            ('svd', svd_model)])\n",
    "\n",
    "svd_matrix = svd_transformer.fit_transform(tuned_data)"
   ]
  },
  {
   "cell_type": "code",
   "execution_count": 13,
   "metadata": {
    "collapsed": true
   },
   "outputs": [],
   "source": [
    "# raw documents to tf-idf matrix: \n",
    "vectorizer = TfidfVectorizer( use_idf=True, \n",
    "                             smooth_idf=True)\n",
    "# SVD to reduce dimensionality: \n",
    "svd_model = TruncatedSVD(n_components=5,\n",
    "                         algorithm='randomized',\n",
    "                         n_iter=10)\n",
    "# pipeline of tf-idf + SVD, fit to and applied to documents:\n",
    "svd_transformer = Pipeline([('tfidf', vectorizer), \n",
    "                            ('svd', svd_model)])\n",
    "# svd_matrix can later be used to compare documents, compare words, or compare queries with documentsa\n",
    "tuned_data = [prep.tuning_data(i) for i in data[:11]]\n",
    "tuned_data = list(set([i for i in tuned_data if i]))\n",
    "svd_matrix = svd_transformer.fit_transform(tuned_data)"
   ]
  },
  {
   "cell_type": "code",
   "execution_count": 14,
   "metadata": {},
   "outputs": [
    {
     "name": "stdout",
     "output_type": "stream",
     "text": [
      "(10, 5)\n"
     ]
    },
    {
     "data": {
      "text/plain": [
       "array([[ 0.34712151,  0.12954876,  0.54431669, -0.06233935, -0.02189774],\n",
       "       [ 0.40517178, -0.42427849, -0.36255556, -0.20993877, -0.11100666],\n",
       "       [ 0.30186955, -0.26437039,  0.05372284,  0.16669009,  0.65410077],\n",
       "       [ 0.31137037,  0.286158  , -0.42950586,  0.3366637 , -0.21070349],\n",
       "       [ 0.28203633,  0.23258427, -0.20263008,  0.65274374,  0.05949034],\n",
       "       [ 0.39836327,  0.42027015, -0.01682285, -0.36043111, -0.03017221],\n",
       "       [ 0.39309715,  0.43420503,  0.1111231 , -0.27149437,  0.20598998],\n",
       "       [ 0.27873656, -0.33337754,  0.31087302,  0.23425071,  0.21295432],\n",
       "       [ 0.19610264, -0.1167347 ,  0.46934498,  0.27852217, -0.59686919],\n",
       "       [ 0.42811293, -0.39766358, -0.19399468, -0.23860435, -0.25066255]])"
      ]
     },
     "execution_count": 14,
     "metadata": {},
     "output_type": "execute_result"
    }
   ],
   "source": [
    "print(svd_matrix.shape)\n",
    "svd_matrix"
   ]
  },
  {
   "cell_type": "code",
   "execution_count": 16,
   "metadata": {},
   "outputs": [
    {
     "data": {
      "text/html": [
       "<div>\n",
       "<style scoped>\n",
       "    .dataframe tbody tr th:only-of-type {\n",
       "        vertical-align: middle;\n",
       "    }\n",
       "\n",
       "    .dataframe tbody tr th {\n",
       "        vertical-align: top;\n",
       "    }\n",
       "\n",
       "    .dataframe thead th {\n",
       "        text-align: right;\n",
       "    }\n",
       "</style>\n",
       "<table border=\"1\" class=\"dataframe\">\n",
       "  <thead>\n",
       "    <tr style=\"text-align: right;\">\n",
       "      <th></th>\n",
       "      <th>news</th>\n",
       "      <th>cat</th>\n",
       "      <th>score</th>\n",
       "    </tr>\n",
       "  </thead>\n",
       "  <tbody>\n",
       "    <tr>\n",
       "      <th>9</th>\n",
       "      <td>신임 박인서 사장이 공사 취임식에서 인사말을 하고 있다.=인도시공사인도시공사는 신임...</td>\n",
       "      <td>0</td>\n",
       "      <td>0.428113</td>\n",
       "    </tr>\n",
       "    <tr>\n",
       "      <th>1</th>\n",
       "      <td>산림청산림청 신임 차장에 박종호(56.사진) 기획조정관이 임명됐다. 11일 산림청에...</td>\n",
       "      <td>0</td>\n",
       "      <td>0.405172</td>\n",
       "    </tr>\n",
       "  </tbody>\n",
       "</table>\n",
       "</div>"
      ],
      "text/plain": [
       "                                                news  cat     score\n",
       "9  신임 박인서 사장이 공사 취임식에서 인사말을 하고 있다.=인도시공사인도시공사는 신임...    0  0.428113\n",
       "1  산림청산림청 신임 차장에 박종호(56.사진) 기획조정관이 임명됐다. 11일 산림청에...    0  0.405172"
      ]
     },
     "metadata": {},
     "output_type": "display_data"
    },
    {
     "data": {
      "text/html": [
       "<div>\n",
       "<style scoped>\n",
       "    .dataframe tbody tr th:only-of-type {\n",
       "        vertical-align: middle;\n",
       "    }\n",
       "\n",
       "    .dataframe tbody tr th {\n",
       "        vertical-align: top;\n",
       "    }\n",
       "\n",
       "    .dataframe thead th {\n",
       "        text-align: right;\n",
       "    }\n",
       "</style>\n",
       "<table border=\"1\" class=\"dataframe\">\n",
       "  <thead>\n",
       "    <tr style=\"text-align: right;\">\n",
       "      <th></th>\n",
       "      <th>news</th>\n",
       "      <th>cat</th>\n",
       "      <th>score</th>\n",
       "    </tr>\n",
       "  </thead>\n",
       "  <tbody>\n",
       "    <tr>\n",
       "      <th>6</th>\n",
       "      <td>검찰이 과거 국가안전기획부와 공모해 고(故) 김근태 의원(당시 민청련 의장)의 고문...</td>\n",
       "      <td>1</td>\n",
       "      <td>0.434205</td>\n",
       "    </tr>\n",
       "    <tr>\n",
       "      <th>5</th>\n",
       "      <td>‘임원 사퇴 동향 문건’이라며 공개… “올 1월 민정수석실에 보고” 주장靑 “曺수석...</td>\n",
       "      <td>1</td>\n",
       "      <td>0.420270</td>\n",
       "    </tr>\n",
       "  </tbody>\n",
       "</table>\n",
       "</div>"
      ],
      "text/plain": [
       "                                                news  cat     score\n",
       "6  검찰이 과거 국가안전기획부와 공모해 고(故) 김근태 의원(당시 민청련 의장)의 고문...    1  0.434205\n",
       "5  ‘임원 사퇴 동향 문건’이라며 공개… “올 1월 민정수석실에 보고” 주장靑 “曺수석...    1  0.420270"
      ]
     },
     "metadata": {},
     "output_type": "display_data"
    },
    {
     "data": {
      "text/html": [
       "<div>\n",
       "<style scoped>\n",
       "    .dataframe tbody tr th:only-of-type {\n",
       "        vertical-align: middle;\n",
       "    }\n",
       "\n",
       "    .dataframe tbody tr th {\n",
       "        vertical-align: top;\n",
       "    }\n",
       "\n",
       "    .dataframe thead th {\n",
       "        text-align: right;\n",
       "    }\n",
       "</style>\n",
       "<table border=\"1\" class=\"dataframe\">\n",
       "  <thead>\n",
       "    <tr style=\"text-align: right;\">\n",
       "      <th></th>\n",
       "      <th>news</th>\n",
       "      <th>cat</th>\n",
       "      <th>score</th>\n",
       "    </tr>\n",
       "  </thead>\n",
       "  <tbody>\n",
       "    <tr>\n",
       "      <th>0</th>\n",
       "      <td>김영문 관세청장=관세청이 재 600달러인 휴대품 면세한도를 상향을 고려해야 한다는 ...</td>\n",
       "      <td>2</td>\n",
       "      <td>0.544317</td>\n",
       "    </tr>\n",
       "    <tr>\n",
       "      <th>8</th>\n",
       "      <td>박능후 보건복지부 장관이 11일 서울 여의도 국회에서 열린 보건복지위원회 국정감사에...</td>\n",
       "      <td>2</td>\n",
       "      <td>0.469345</td>\n",
       "    </tr>\n",
       "  </tbody>\n",
       "</table>\n",
       "</div>"
      ],
      "text/plain": [
       "                                                news  cat     score\n",
       "0  김영문 관세청장=관세청이 재 600달러인 휴대품 면세한도를 상향을 고려해야 한다는 ...    2  0.544317\n",
       "8  박능후 보건복지부 장관이 11일 서울 여의도 국회에서 열린 보건복지위원회 국정감사에...    2  0.469345"
      ]
     },
     "metadata": {},
     "output_type": "display_data"
    },
    {
     "data": {
      "text/html": [
       "<div>\n",
       "<style scoped>\n",
       "    .dataframe tbody tr th:only-of-type {\n",
       "        vertical-align: middle;\n",
       "    }\n",
       "\n",
       "    .dataframe tbody tr th {\n",
       "        vertical-align: top;\n",
       "    }\n",
       "\n",
       "    .dataframe thead th {\n",
       "        text-align: right;\n",
       "    }\n",
       "</style>\n",
       "<table border=\"1\" class=\"dataframe\">\n",
       "  <thead>\n",
       "    <tr style=\"text-align: right;\">\n",
       "      <th></th>\n",
       "      <th>news</th>\n",
       "      <th>cat</th>\n",
       "      <th>score</th>\n",
       "    </tr>\n",
       "  </thead>\n",
       "  <tbody>\n",
       "    <tr>\n",
       "      <th>4</th>\n",
       "      <td>반응속도 2배 향상해 보다 자연스러운 필기 경험 제공하는 ‘S펜’고급스러우면서도 단...</td>\n",
       "      <td>3</td>\n",
       "      <td>0.652744</td>\n",
       "    </tr>\n",
       "    <tr>\n",
       "      <th>3</th>\n",
       "      <td>편의점 GS25가 매출 부진 점포에 대해 해약 수수료 없이 가맹점을 폐업할 수 있는...</td>\n",
       "      <td>3</td>\n",
       "      <td>0.336664</td>\n",
       "    </tr>\n",
       "  </tbody>\n",
       "</table>\n",
       "</div>"
      ],
      "text/plain": [
       "                                                news  cat     score\n",
       "4  반응속도 2배 향상해 보다 자연스러운 필기 경험 제공하는 ‘S펜’고급스러우면서도 단...    3  0.652744\n",
       "3  편의점 GS25가 매출 부진 점포에 대해 해약 수수료 없이 가맹점을 폐업할 수 있는...    3  0.336664"
      ]
     },
     "metadata": {},
     "output_type": "display_data"
    },
    {
     "data": {
      "text/html": [
       "<div>\n",
       "<style scoped>\n",
       "    .dataframe tbody tr th:only-of-type {\n",
       "        vertical-align: middle;\n",
       "    }\n",
       "\n",
       "    .dataframe tbody tr th {\n",
       "        vertical-align: top;\n",
       "    }\n",
       "\n",
       "    .dataframe thead th {\n",
       "        text-align: right;\n",
       "    }\n",
       "</style>\n",
       "<table border=\"1\" class=\"dataframe\">\n",
       "  <thead>\n",
       "    <tr style=\"text-align: right;\">\n",
       "      <th></th>\n",
       "      <th>news</th>\n",
       "      <th>cat</th>\n",
       "      <th>score</th>\n",
       "    </tr>\n",
       "  </thead>\n",
       "  <tbody>\n",
       "    <tr>\n",
       "      <th>2</th>\n",
       "      <td>한밭대학교는 이달까지 매주 수요일마다 한밭도서관에서 지역청년을 위한 찾아가는 진로·...</td>\n",
       "      <td>4</td>\n",
       "      <td>0.654101</td>\n",
       "    </tr>\n",
       "  </tbody>\n",
       "</table>\n",
       "</div>"
      ],
      "text/plain": [
       "                                                news  cat     score\n",
       "2  한밭대학교는 이달까지 매주 수요일마다 한밭도서관에서 지역청년을 위한 찾아가는 진로·...    4  0.654101"
      ]
     },
     "metadata": {},
     "output_type": "display_data"
    }
   ],
   "source": [
    "cluster_ls = []\n",
    "for idx in range(len(svd_matrix)) :\n",
    "    cluster_ls.append((tuned_data[idx],np.argmax(svd_matrix[idx]),np.max(svd_matrix[idx])))\n",
    "\n",
    "new_ls = [i[0] for i in cluster_ls]\n",
    "cat_ls = [i[1] for i in cluster_ls]\n",
    "score_ls = [i[2] for i in cluster_ls]\n",
    "\n",
    "lsa_df = pd.DataFrame()\n",
    "lsa_df['news'] = new_ls\n",
    "lsa_df['cat'] = cat_ls\n",
    "lsa_df['score'] = score_ls\n",
    "\n",
    "for i in range(5) :\n",
    "    if \\\n",
    "    len(lsa_df[lsa_df['cat'] == i].sort_values('score',ascending=False).head(2)) == 0 :\n",
    "        display(Markdown('### There is no data which belong to {}-th cat!'.format(i+1)))\n",
    "\n",
    "    else :display(lsa_df[lsa_df['cat'] == i].sort_values('score',ascending=False).head(2))"
   ]
  },
  {
   "cell_type": "code",
   "execution_count": null,
   "metadata": {
    "collapsed": true
   },
   "outputs": [],
   "source": []
  }
 ],
 "metadata": {
  "kernelspec": {
   "display_name": "Python 3",
   "language": "python",
   "name": "python3"
  },
  "language_info": {
   "codemirror_mode": {
    "name": "ipython",
    "version": 3
   },
   "file_extension": ".py",
   "mimetype": "text/x-python",
   "name": "python",
   "nbconvert_exporter": "python",
   "pygments_lexer": "ipython3",
   "version": "3.6.7"
  }
 },
 "nbformat": 4,
 "nbformat_minor": 2
}
