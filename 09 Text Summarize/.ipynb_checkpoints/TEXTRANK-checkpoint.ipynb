{
 "cells": [
  {
   "cell_type": "markdown",
   "metadata": {},
   "source": [
    "# TextRank\n",
    "- 그래프 기반의 문서 요약 기법\n",
    "- PageRank 알고리즘을 기반으로 한다.\n",
    "- 해당 문장에서 나오는 단어들의 similarity 를 기반으로 가중치를 부여한다."
   ]
  },
  {
   "cell_type": "code",
   "execution_count": 12,
   "metadata": {
    "collapsed": true
   },
   "outputs": [],
   "source": [
    "import networkx as nx\n",
    "import numpy as np\n",
    "\n",
    "from sklearn.feature_extraction.text import TfidfTransformer, CountVectorizer\n",
    " \n",
    "def textrank(document):\n",
    "    sentences = document.split('\\n')\n",
    " \n",
    "    convert_to_binary_ls = CountVectorizer().fit_transform(sentences)\n",
    "    tfidf_vetorized_ls = TfidfTransformer().fit_transform(convert_to_binary_ls)\n",
    " \n",
    "    similarity_graph = tfidf_vetorized_ls * tfidf_vetorized_ls.T\n",
    " \n",
    "    nx_graph = nx.from_scipy_sparse_matrix(similarity_graph)\n",
    "\n",
    "    scores = nx.pagerank(nx_graph)\n",
    "    return sorted(((scores[i],s) for i,s in enumerate(sentences)),\n",
    "                  reverse=True)"
   ]
  },
  {
   "cell_type": "code",
   "execution_count": 1,
   "metadata": {
    "collapsed": true
   },
   "outputs": [],
   "source": [
    "title = \"American Accused of Spying in Russia Is a Marine Veteran, Family Says\"\n",
    "content = \"\"\"\n",
    "LONDON — The American man who was arrested last week in Russia on a spying charge is a Marine Corps veteran who was in Moscow to attend a wedding, his family said on Tuesday.\n",
    "Russia’s Federal Security Service, known as the F.S.B., said on Monday that the American, Paul N. Whelan, had been detained on Friday “during an act of espionage,” and that a criminal case had been opened against him. \n",
    "Conviction on a spying charge in Russia carries a prison sentence of up to 20 years.\n",
    "“We noticed that he was not in communication,” his parents and siblings said in a statement, “which was very much out of character for him even when he was traveling.”\n",
    "They said they had not learned of his arrest until it was reported by the news media on Monday. \n",
    "Since then, they have contacted an array of United States government offices.\n",
    "“We are deeply concerned for his safety and well-being,” the family statement said. “His innocence is undoubted and we trust that his rights will be respected.”\n",
    "Mr. Whelan, 48, worked in corporate security for BorgWarner, an auto parts maker based near Detroit, his twin brother, David, wrote in an email.\n",
    "“We understand that the U.S. government will see him within a 72-hour window that has already begun,” David Whelan wrote.\n",
    "“Paul was attending a wedding for a fellow former Marine,” he wrote. \n",
    "“The wedding party were staying at the Metropol hotel” in Moscow.\n",
    "He added that the family did not know of “anyone who has seen or interacted with him since just before 5 p.m. in Moscow on the 28th.”\n",
    "The arrest of Mr. Whelan came 15 days after a Russian woman, Maria Butina, pleaded guilty in Washington to conspiring to act as a foreign agent, working with Russian officials to influence American political figures. \n",
    "The Kremlin has claimed she is innocent, insisting that Ms. Butina never acted as an agent for Moscow.\n",
    "Tensions between the two capitals have been high over a series of revelations about Russia’s clandestine efforts to influence United States politics and the 2016 election.\n",
    "Russian officials have denied any involvement in such efforts.\n",
    "While it is not yet clear what prompted Mr. Whelan’s arrest, Russia has been known to arrest foreigners with an eye toward trading them for Russians held abroad.\n",
    "\"\"\""
   ]
  },
  {
   "cell_type": "code",
   "execution_count": 7,
   "metadata": {},
   "outputs": [
    {
     "data": {
      "text/plain": [
       "[(0.0720242711848012,\n",
       "  'LONDON — The American man who was arrested last week in Russia on a spying charge is a Marine Corps veteran who was in Moscow to attend a wedding, his family said on Tuesday.'),\n",
       " (0.06846993725514333,\n",
       "  'Russia’s Federal Security Service, known as the F.S.B., said on Monday that the American, Paul N. Whelan, had been detained on Friday “during an act of espionage,” and that a criminal case had been opened against him. '),\n",
       " (0.066459113033833,\n",
       "  'He added that the family did not know of “anyone who has seen or interacted with him since just before 5 p.m. in Moscow on the 28th.”'),\n",
       " (0.06598041794775444,\n",
       "  '“We noticed that he was not in communication,” his parents and siblings said in a statement, “which was very much out of character for him even when he was traveling.”'),\n",
       " (0.06081929506261168,\n",
       "  'They said they had not learned of his arrest until it was reported by the news media on Monday. ')]"
      ]
     },
     "execution_count": 7,
     "metadata": {},
     "output_type": "execute_result"
    }
   ],
   "source": [
    "ranked = textrank(content)\n",
    "ranked[:5]"
   ]
  },
  {
   "cell_type": "code",
   "execution_count": null,
   "metadata": {
    "collapsed": true
   },
   "outputs": [],
   "source": [
    "from gensim.summarization import summarize"
   ]
  },
  {
   "cell_type": "code",
   "execution_count": null,
   "metadata": {
    "collapsed": true
   },
   "outputs": [],
   "source": [
    "summarize(content)"
   ]
  }
 ],
 "metadata": {
  "kernelspec": {
   "display_name": "Python 3",
   "language": "python",
   "name": "python3"
  },
  "language_info": {
   "codemirror_mode": {
    "name": "ipython",
    "version": 3
   },
   "file_extension": ".py",
   "mimetype": "text/x-python",
   "name": "python",
   "nbconvert_exporter": "python",
   "pygments_lexer": "ipython3",
   "version": "3.6.7"
  }
 },
 "nbformat": 4,
 "nbformat_minor": 2
}
