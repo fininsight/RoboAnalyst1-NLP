{
 "cells": [
  {
   "cell_type": "code",
   "execution_count": 30,
   "metadata": {},
   "outputs": [],
   "source": [
    "df1 = pd.read_csv('preprocessing_실리콘벨리기사.csv')\n",
    "\n",
    "df1.rename(columns={'0':'raw','1':'tuned'},inplace=True)\n",
    "\n",
    "doc = df1['raw'].tolist()\n",
    "sentences = doc[0].split(\".\")"
   ]
  },
  {
   "cell_type": "code",
   "execution_count": 31,
   "metadata": {},
   "outputs": [],
   "source": [
    "import networkx as nx\n",
    "import numpy as np\n",
    "import pandas as pd\n",
    "from konlpy.tag import Okt\n",
    "okt = Okt()\n",
    "\n",
    "from sklearn.feature_extraction.text import TfidfTransformer"
   ]
  },
  {
   "cell_type": "code",
   "execution_count": 47,
   "metadata": {},
   "outputs": [],
   "source": [
    "def textrank(document):\n",
    "    sentences = document[0].split('.')\n",
    "    tuned_sentences = []\n",
    "\n",
    "    for idx in range(len(sentences)) : \n",
    "        tuned_sentences.append(okt.nouns(sentences[idx]))\n",
    "\n",
    "    tuned_sentences = [','.join(tuned_sentences[idx]).replace(',',' ') for idx in range(len(tuned_sentences))]\n",
    "    vectorizer = TfidfVectorizer()\n",
    "    tfidf_vector = vectorizer.fit_transform(tuned_sentences).toarray()\n",
    "    similarity_graph = tfidf_vector * tfidf_vector\n",
    " \n",
    "    nx_graph = nx.from_scipy_sparse_matrix(similarity_graph)\n",
    "\n",
    "    scores = nx.pagerank(nx_graph)\n",
    "    return sorted(((scores[i],s) for i,s in enumerate(sentences)),\n",
    "                  reverse=True)"
   ]
  },
  {
   "cell_type": "code",
   "execution_count": 55,
   "metadata": {},
   "outputs": [],
   "source": [
    "def textrank(document):\n",
    "    sentences = document.split('.') # 문서를 문장으로 split\n",
    "    tuned_sentences = []\n",
    "    \n",
    "    for idx in range(len(sentences)) : \n",
    "        tuned_sentences.append(okt.nouns(sentences[idx]))\n",
    "\n",
    "    tuned_sentences = [','.join(tuned_sentences[idx]).replace(',',' ') for idx in range(len(tuned_sentences))]\n",
    "    \n",
    "    # 위에까지 문장에서 명사만 추출한 후, 명사의 나열로 각각의 문장을 대체한다.\n",
    "    \n",
    "    convert_to_binary_ls = CountVectorizer().fit_transform(tuned_sentences)\n",
    "    tfidf_vetorized_ls = TfidfTransformer().fit_transform(convert_to_binary_ls)\n",
    "    \n",
    "    # 위의 두 줄의 코드 ( countervectorizer -> tf-idf transformer) 는 tf-idf vectorizer 과 같은 효과를 가진다.\n",
    "\n",
    "    similarity_graph = tfidf_vetorized_ls * tfidf_vetorized_ls.T # 벡터의 내적을 통해 코사인 유사도 계산\n",
    " \n",
    "    nx_graph = nx.from_scipy_sparse_matrix(similarity_graph) # 그래프 위에 벡터를 올린다.\n",
    "\n",
    "    scores = nx.pagerank(nx_graph) # 페이지 랭크 알고리즘으로 노드의 가중치를 업데이트 시켜준다.\n",
    "    \n",
    "    return sorted(((scores[i],s) for i,s in enumerate(sentences)),\n",
    "                  reverse=True)"
   ]
  },
  {
   "cell_type": "code",
   "execution_count": 57,
   "metadata": {
    "scrolled": true
   },
   "outputs": [
    {
     "data": {
      "text/plain": [
       "[(0.040816762831927554, ' 창업자들의 세부 전공을 보면 37%만 공학·컴퓨터 기술이며, 수학 전공자는 2%뿐이었다'),\n",
       " (0.03487320736779421,\n",
       "  ' 요즘 실리콘밸리에서 확인되는 것은 4차 산업혁명 시대에는 예술과 인문학이 의학·공학만큼 중요하다는 사실이다'),\n",
       " (0.03339024696666714, ' 기술 관련 제품의 성공에 가장 중요한 것은 디자인\"이라고 답했다'),\n",
       " (0.03282283236060363,\n",
       "  ' 자녀의 직업적 성공을 위해 대학 전공으로 의학과 이공계를 우선적으로 고려하는 일은 한국이 산업화 중이던 상황에선 올바른 선택이었다'),\n",
       " (0.03272401428499746,\n",
       "  '기술을 통해 놀라운 미래를 창조하고 새로운 산업혁명 시대에 리더가 되기 위해 한국에서는 공학자들과 손잡고 일할 음악가와 화가가 더 많이 필요하다'),\n",
       " (0.032391493195152554,\n",
       "  ' 여기에는 컴퓨터와 인공지능, 디지털 의술, 로봇공학, 합성생물학 등 광범위한 기술이 활용된다'),\n",
       " (0.032023279817589984,\n",
       "  '교육을 삶의 최우선 순위로 두고 있는 한국의 부모들은 대학 전공 가운데 의학과 공학·과학을 중시한다'),\n",
       " (0.03060327736966526, ' 이는 인문학 전공자들이 가장 잘 훈련받은 분야이다'),\n",
       " (0.02977677825410388,\n",
       "  ' 교양과 인문학이 결합한 기술이야말로 가슴 벅찬 결과를 낳을 것\"이라며 예술과 디자인의 중요성을 강조했다'),\n",
       " (0.029744919107691305,\n",
       "  \" 초소형 물질의 발전은 모든 사람이 충분히 이용할 수 있는 '태양열 저장 기술'의 새 시대를 열 것이다\"),\n",
       " (0.02924623343757161,\n",
       "  ' 최근 내가 그에게 \"어떻게 5년여 만에 회사 주가를 450% 올릴 수 있었느냐\"고 물었더니 그는 \"우리 회사가 만드는 모든 제품의 디자인을 쉼 없이 고민했기 때문에 가능했다'),\n",
       " (0.028901992422112152, '실리콘밸리에서 최근 뜨고 있는 스타 기업인 중에는 인문학 전공자들이 제법 많다'),\n",
       " (0.028525957482825496, ' 이들의 전공은 경영·회계·보건·예술·인문학 등 매우 다양했다'),\n",
       " (0.028103206353949195,\n",
       "  '스티브 잡스는 자신이 대학 시절 수강했던 서체(書體) 수업이 매킨토시(애플이 1984년 발표한 개인용 컴퓨터) 개발 성공에 큰 영향을 미쳤다고 말했다'),\n",
       " (0.02770638318663611, ' 이제는 과학·공학·의학뿐 아니라 창의성과 디자인에도 진정한 관심을 쏟아야 한다'),\n",
       " (0.027369347935136564,\n",
       "  ' 구인·구직 소셜 네트워킹 서비스 기업인 링크드인(LinkedIn) 창업자 리드 호프만은 철학 석사 학위 소지자이며, 수잔 보이치키 유튜브 CEO는 역사와 문학을 전공했다'),\n",
       " (0.027112340498288666,\n",
       "  \" 의학·인공지능과 센서를 융합하면 인간의 건강을 진단하고 질병을 예방하는 '디지털 의사'를 만들 수 있다\"),\n",
       " (0.027024899818793958,\n",
       "  ' 메신저 개발 업체 슬랙(Slack)의 창업자 스튜어트 버터필드는 철학, 세계 최대 숙박 공유 기업인 에어비앤비의 설립자 브라이언 체스키는 미술을 전공했다'),\n",
       " (0.026958045843884632,\n",
       "  ' 우리가 처한 거대한 사회·기술적 도전에 대처하려면 인류를 둘러싼 다양한 배경과 맥락에 대해 비판적 사고 능력이 필수적이다'),\n",
       " (0.025956428255251546, ' 그는 2011년 아이패드 2를 공개하면서 \"애플의 DNA는 기술만으로는 충분하지 않다'),\n",
       " (0.025903351274121723,\n",
       "  ' 심리학 전공자는 사람에게 동기(動機)부여가 무엇이며, 사용자들이 원하는 게 무엇인지를 공학 한 분야에서만 일해온 엔지니어들보다 잘 이해할 수 있다'),\n",
       " (0.02576800283193175, '일례로 음악·예술·문학과 심리학에서 비롯한 공감(共感) 능력은 디자인에 큰 장점이 된다'),\n",
       " (0.025610276314751837,\n",
       "  \" 과거 우리 부모들이 우리에게 공부를 강요해서 학습을 '억지로 해야 하는 따분한 일'로 여기게 했던 방식을 따라 해선 안 된다\"),\n",
       " (0.02549233110436119,\n",
       "  ' 로마제국의 흥망성쇠와 계몽주의를 공부한 역사학도는 기술의 인간적 요소와 유용성에 대한 통찰력을 가질 수 있다'),\n",
       " (0.025246387855089935,\n",
       "  ' 이런 관점을 바탕으로 잡스는 세계 최고 가치를 인정받는 기업을 만들었고, 기술 산업의 새로운 표준까지 정했다'),\n",
       " (0.025048884712211287, '컴퓨터 주변기기 제조 업체 로지텍의 브랙큰 대럴 CEO도 영문학을 전공했다'),\n",
       " (0.02477859525274787, ' 우리가 상상하는 물건을 3D로 만들 수 있게 되면 음악가나 화가들의 세상이 될지도 모른다'),\n",
       " (0.024573123138203354, \" 인공지능 로봇을 사용해 노인들을 위한 '디지털 친구'도 가능하다\"),\n",
       " (0.024233463196052345,\n",
       "  '\"자녀가 미래에 어떤 직업을 택하면 좋겠는가\"라는 질문을 받을 때 나는 \"아이들이 스스로 하고 싶은 것을 선택하도록 내버려 두는 게 최선\"이라고 답한다'),\n",
       " (0.023988485460726797,\n",
       "  '이런 해결책을 이끌어내는 데는 생물학·교육·의료·인간행동 등 여러 분야에 대한 지식이 필요하다'),\n",
       " (0.02392836888025162,\n",
       "  '내가 속해 있는 하버드대·듀크대 연구팀은 미국 IT 기업 창업자들의 92%가 학사 학위를, 47%는 석사 학위 이상을 갖고 있음을 밝혀냈다'),\n",
       " (0.023514893193890926, ' 그 대신 자녀가 자신의 열정을 추구하고 배우는 걸 즐길 수 있도록 북돋아야 한다'),\n",
       " (0.023265399490764303,\n",
       "  ' 유전체학과 유전자 편집을 이용해 가뭄에 강하고 인류 전체를 먹여 살릴 새 식물을 개발할 수 있다'),\n",
       " (0.02320489742794718, ' 하지만 지금은 모든 것이 달라졌다'),\n",
       " (0.022842191414227896, ' 중국 알리바바그룹의 마윈 회장의 학부 전공은 영어였다'),\n",
       " (0.022380324068716248, \"4차 산업혁명은 '혁신의 규칙'을 바꾸는 일이다\"),\n",
       " (0.004149377593360997, '')]"
      ]
     },
     "execution_count": 57,
     "metadata": {},
     "output_type": "execute_result"
    }
   ],
   "source": [
    "textrank(doc[0])"
   ]
  },
  {
   "cell_type": "code",
   "execution_count": 62,
   "metadata": {},
   "outputs": [
    {
     "data": {
      "text/plain": [
       "'요즘 실리콘밸리에서 확인되는 것은 4차 산업혁명 시대에는 예술과 인문학이 의학·공학만큼 중요하다는 사실이다.스티브 잡스는 자신이 대학 시절 수강했던 서체(書體) 수업이 매킨토시(애플이 1984년 발표한 개인용 컴퓨터) 개발 성공에 큰 영향을 미쳤다고 말했다.\\n이런 관점을 바탕으로 잡스는 세계 최고 가치를 인정받는 기업을 만들었고, 기술 산업의 새로운 표준까지 정했다.실리콘밸리에서 최근 뜨고 있는 스타 기업인 중에는 인문학 전공자들이 제법 많다.\\n구인·구직 소셜 네트워킹 서비스 기업인 링크드인(LinkedIn) 창업자 리드 호프만은 철학 석사 학위 소지자이며, 수잔 보이치키 유튜브 CEO는 역사와 문학을 전공했다.\\n메신저 개발 업체 슬랙(Slack)의 창업자 스튜어트 버터필드는 철학, 세계 최대 숙박 공유 기업인 에어비앤비의 설립자 브라이언 체스키는 미술을 전공했다.\\n이들의 전공은 경영·회계·보건·예술·인문학 등 매우 다양했다.컴퓨터 주변기기 제조 업체 로지텍의 브랙큰 대럴 CEO도 영문학을 전공했다.'"
      ]
     },
     "execution_count": 62,
     "metadata": {},
     "output_type": "execute_result"
    }
   ],
   "source": [
    "from gensim.summarization import summarize\n",
    "summarize(doc[0])"
   ]
  }
 ],
 "metadata": {
  "kernelspec": {
   "display_name": "Python 3",
   "language": "python",
   "name": "python3"
  },
  "language_info": {
   "codemirror_mode": {
    "name": "ipython",
    "version": 3
   },
   "file_extension": ".py",
   "mimetype": "text/x-python",
   "name": "python",
   "nbconvert_exporter": "python",
   "pygments_lexer": "ipython3",
   "version": "3.6.6"
  }
 },
 "nbformat": 4,
 "nbformat_minor": 2
}
