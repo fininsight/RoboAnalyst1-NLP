{
 "cells": [
  {
   "cell_type": "markdown",
   "metadata": {},
   "source": [
    "# Jupyter Notebook 사용법\n",
    "\n",
    "## 1. Command Mode\n",
    "\n",
    "단축키 | 설명\n",
    "- | -\n",
    "Enter | 에디트 모드(Edit mode)로 진입\n",
    "y | 코드(Code) 셀로 전환\n",
    "r | Raw NB 셀로 전환\n",
    "m | 마크다운(Markdown) 셀로 전환\n",
    "1~6 | 마크다운 H1~H6\n",
    "a | 위에 셀 삽입\n",
    "b | 아래 셀 삽입\n",
    "dd | 셀 삭제"
   ]
  },
  {
   "cell_type": "code",
   "execution_count": null,
   "metadata": {},
   "outputs": [],
   "source": []
  },
  {
   "cell_type": "markdown",
   "metadata": {},
   "source": [
    "## 2. Edit Mode\n",
    "단축키 | 설명\n",
    "- | -\n",
    "Tab | 코드 자동완성, 들여쓰기\n",
    "Ctrl+] | 들여쓰기(intent)\n",
    "Ctrl+[ | 내어쓰기(detent)\n",
    "Ctrl+z | 실행취소(undo)\n",
    "Esc | 커멘트 모드(Command mode)로 진입\n",
    "Shift+Enter | 셀 실행하고, 다음 셀 선택\n",
    "Ctrl+Enter | 셀 실행\n",
    "Alt+Enter | 셀 실행하고, 아래 셀 삽입"
   ]
  },
  {
   "cell_type": "code",
   "execution_count": 5,
   "metadata": {},
   "outputs": [
    {
     "name": "stdout",
     "output_type": "stream",
     "text": [
      "Hello World!\n"
     ]
    }
   ],
   "source": [
    "print(\"Hello World!\")"
   ]
  },
  {
   "cell_type": "code",
   "execution_count": null,
   "metadata": {},
   "outputs": [],
   "source": []
  },
  {
   "cell_type": "code",
   "execution_count": 2,
   "metadata": {},
   "outputs": [
    {
     "name": "stdout",
     "output_type": "stream",
     "text": [
      "test\n"
     ]
    }
   ],
   "source": [
    "print(\"test\")"
   ]
  },
  {
   "cell_type": "code",
   "execution_count": null,
   "metadata": {},
   "outputs": [],
   "source": []
  }
 ],
 "metadata": {
  "kernelspec": {
   "display_name": "Python 3",
   "language": "python",
   "name": "python3"
  },
  "language_info": {
   "codemirror_mode": {
    "name": "ipython",
    "version": 3
   },
   "file_extension": ".py",
   "mimetype": "text/x-python",
   "name": "python",
   "nbconvert_exporter": "python",
   "pygments_lexer": "ipython3",
   "version": "3.6.5"
  }
 },
 "nbformat": 4,
 "nbformat_minor": 2
}
